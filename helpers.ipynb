{
 "cells": [
  {
   "cell_type": "code",
   "execution_count": 16,
   "metadata": {},
   "outputs": [],
   "source": [
    "import os\n",
    "\n",
    "from calendar import monthrange\n",
    "\n",
    "html_path=\"output/html/by_day/{year}/{month:02d}/playlist_{year}{month:02d}{day:02d}.html\"\n",
    "csv_path=\"output/csv/{year}/{month:02d}/{year}{month:02d}{day:02d}.csv\"\n",
    "beginyear=2006\n",
    "endyear=2022"
   ]
  },
  {
   "cell_type": "code",
   "execution_count": 17,
   "metadata": {},
   "outputs": [
    {
     "name": "stdout",
     "output_type": "stream",
     "text": [
      "output/csv/2007/02/20070221.csv\n",
      "output/csv/2011/07/20110719.csv\n",
      "output/csv/2015/02/20150216.csv\n",
      "output/csv/2018/12/20181208.csv\n",
      "output/csv/2018/12/20181209.csv\n",
      "output/csv/2018/12/20181210.csv\n"
     ]
    }
   ],
   "source": [
    "files_to_remove = []\n",
    "for year in range(beginyear, endyear +1):\n",
    "    for month in range(1,13):\n",
    "        month_days = monthrange(int(year), int(month))\n",
    "        for day in range(1, month_days[1] + 1):\n",
    "            cp=csv_path.format(year=year, month=month, day=day)\n",
    "            hp=html_path.format(year=year, month=month, day=day)\n",
    "            if os.path.exists(cp):\n",
    "                with open(cp) as f:\n",
    "                    lines = f.readlines()\n",
    "                if len(lines) == 1:\n",
    "                    files_to_remove.append(co)\n",
    "                    print(cp)"
   ]
  },
  {
   "cell_type": "code",
   "execution_count": 1,
   "metadata": {},
   "outputs": [],
   "source": [
    "\n",
    "\n",
    "files_to_remove = []\n",
    "\n",
    "for month in range(1,13):\n",
    "    month_days = monthrange(int(year), int(month))\n",
    "    for day in range(1, month_days[1] + 1):\n",
    "        hp=html_path.format(year=year, month=month, day=day)\n",
    "        cp=csv_path.format(year=year, month=month, day=day)\n",
    "\n",
    "        if os.path.exists(hp):\n",
    "            with open(hp) as f:\n",
    "                lines = f.read()\n",
    "                if \"played_at\" not in lines:\n",
    "                    files_to_remove.append(hp)\n",
    "                    files_to_remove.append(cp)\n",
    "\n"
   ]
  },
  {
   "cell_type": "code",
   "execution_count": 8,
   "metadata": {},
   "outputs": [],
   "source": [
    "for f in files_to_remove:\n",
    "    os.remove(f)"
   ]
  }
 ],
 "metadata": {
  "kernelspec": {
   "display_name": "venv",
   "language": "python",
   "name": "python3"
  },
  "language_info": {
   "codemirror_mode": {
    "name": "ipython",
    "version": 3
   },
   "file_extension": ".py",
   "mimetype": "text/x-python",
   "name": "python",
   "nbconvert_exporter": "python",
   "pygments_lexer": "ipython3",
   "version": "3.9.6"
  },
  "orig_nbformat": 4
 },
 "nbformat": 4,
 "nbformat_minor": 2
}
