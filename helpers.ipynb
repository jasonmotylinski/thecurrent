{
 "cells": [
  {
   "cell_type": "code",
   "execution_count": 1,
   "metadata": {},
   "outputs": [],
   "source": [
    "import os\n",
    "\n",
    "from calendar import monthrange\n",
    "\n"
   ]
  },
  {
   "cell_type": "code",
   "execution_count": 20,
   "metadata": {},
   "outputs": [],
   "source": [
    "html_path=\"output/html/by_day/{year}/{month:02d}/playlist_{year}{month:02d}{day:02d}.html\"\n",
    "csv_path=\"output/csv/{year}/{month:02d}/{year}{month:02d}{day:02d}.csv\"\n",
    "beginyear=2006\n",
    "endyear=2022\n",
    "files_to_remove = []\n",
    "for year in range(beginyear, endyear +1):\n",
    "    for month in range(1,13):\n",
    "        month_days = monthrange(int(year), int(month))\n",
    "        for day in range(1, month_days[1] + 1):\n",
    "            cp=csv_path.format(year=year, month=month, day=day)\n",
    "            hp=html_path.format(year=year, month=month, day=day)\n",
    "            if os.path.exists(cp):\n",
    "                with open(cp) as f:\n",
    "                    lines = f.readlines()\n",
    "                if len(lines) == 1:\n",
    "                    files_to_remove.append(cp)\n",
    "                    files_to_remove.append(hp)"
   ]
  },
  {
   "cell_type": "code",
   "execution_count": 21,
   "metadata": {},
   "outputs": [
    {
     "name": "stdout",
     "output_type": "stream",
     "text": [
      "['output/csv/2007/02/20070221.csv', 'output/html/by_day/2007/02/playlist_20070221.html', 'output/csv/2011/07/20110719.csv', 'output/html/by_day/2011/07/playlist_20110719.html', 'output/csv/2015/02/20150216.csv', 'output/html/by_day/2015/02/playlist_20150216.html', 'output/csv/2018/12/20181208.csv', 'output/html/by_day/2018/12/playlist_20181208.html', 'output/csv/2018/12/20181209.csv', 'output/html/by_day/2018/12/playlist_20181209.html', 'output/csv/2018/12/20181210.csv', 'output/html/by_day/2018/12/playlist_20181210.html']\n"
     ]
    }
   ],
   "source": [
    "print(files_to_remove)"
   ]
  },
  {
   "cell_type": "code",
   "execution_count": 1,
   "metadata": {},
   "outputs": [],
   "source": [
    "\n",
    "\n",
    "files_to_remove = []\n",
    "\n",
    "for month in range(1,13):\n",
    "    month_days = monthrange(int(year), int(month))\n",
    "    for day in range(1, month_days[1] + 1):\n",
    "        hp=html_path.format(year=year, month=month, day=day)\n",
    "        cp=csv_path.format(year=year, month=month, day=day)\n",
    "\n",
    "        if os.path.exists(hp):\n",
    "            with open(hp) as f:\n",
    "                lines = f.read()\n",
    "                if \"played_at\" not in lines:\n",
    "                    files_to_remove.append(hp)\n",
    "                    files_to_remove.append(cp)\n",
    "\n"
   ]
  },
  {
   "cell_type": "code",
   "execution_count": 17,
   "metadata": {},
   "outputs": [],
   "source": [
    "import config\n",
    "\n",
    "beginyear=2005\n",
    "endyear=2022\n",
    "files_to_remove = []\n",
    "for year in range(beginyear, endyear +1):\n",
    "    for month in range(1,13):\n",
    "        month_days = monthrange(int(year), int(month))\n",
    "        for day in range(1, month_days[1] + 1):\n",
    "            cp=config.THECURRENT_SCHEDULE_DAY_CSV.format(year,\"{0:02d}\".format(month),\"{0}{1:02d}{2:02d}\".format(year,month,day))\n",
    "            hp=config.THECURRENT_SCHEDULE_DAY_HTML.format(year=year, month=month, day=day)\n",
    "    \n",
    "            if os.path.exists(cp):\n",
    "                with open(cp) as f:\n",
    "                    lines = f.readlines()\n",
    "          \n",
    "                if len(lines) ==1:\n",
    "                    files_to_remove.append(cp)\n",
    "                    files_to_remove.append(hp)"
   ]
  },
  {
   "cell_type": "code",
   "execution_count": 18,
   "metadata": {},
   "outputs": [
    {
     "name": "stdout",
     "output_type": "stream",
     "text": [
      "['output/thecurrent/schedule/csv/2005/05/20050505.csv', 'output/thecurrent/schedule/html/by_day/2005/05/20050505.html', 'output/thecurrent/schedule/csv/2005/07/20050728.csv', 'output/thecurrent/schedule/html/by_day/2005/07/20050728.html', 'output/thecurrent/schedule/csv/2005/08/20050805.csv', 'output/thecurrent/schedule/html/by_day/2005/08/20050805.html', 'output/thecurrent/schedule/csv/2005/08/20050815.csv', 'output/thecurrent/schedule/html/by_day/2005/08/20050815.html', 'output/thecurrent/schedule/csv/2005/09/20050915.csv', 'output/thecurrent/schedule/html/by_day/2005/09/20050915.html', 'output/thecurrent/schedule/csv/2005/11/20051115.csv', 'output/thecurrent/schedule/html/by_day/2005/11/20051115.html', 'output/thecurrent/schedule/csv/2006/05/20060506.csv', 'output/thecurrent/schedule/html/by_day/2006/05/20060506.html', 'output/thecurrent/schedule/csv/2006/12/20061204.csv', 'output/thecurrent/schedule/html/by_day/2006/12/20061204.html', 'output/thecurrent/schedule/csv/2007/03/20070327.csv', 'output/thecurrent/schedule/html/by_day/2007/03/20070327.html', 'output/thecurrent/schedule/csv/2007/05/20070507.csv', 'output/thecurrent/schedule/html/by_day/2007/05/20070507.html', 'output/thecurrent/schedule/csv/2007/11/20071123.csv', 'output/thecurrent/schedule/html/by_day/2007/11/20071123.html', 'output/thecurrent/schedule/csv/2007/12/20071216.csv', 'output/thecurrent/schedule/html/by_day/2007/12/20071216.html', 'output/thecurrent/schedule/csv/2007/12/20071218.csv', 'output/thecurrent/schedule/html/by_day/2007/12/20071218.html', 'output/thecurrent/schedule/csv/2008/01/20080107.csv', 'output/thecurrent/schedule/html/by_day/2008/01/20080107.html', 'output/thecurrent/schedule/csv/2008/03/20080327.csv', 'output/thecurrent/schedule/html/by_day/2008/03/20080327.html', 'output/thecurrent/schedule/csv/2008/05/20080521.csv', 'output/thecurrent/schedule/html/by_day/2008/05/20080521.html', 'output/thecurrent/schedule/csv/2008/08/20080801.csv', 'output/thecurrent/schedule/html/by_day/2008/08/20080801.html', 'output/thecurrent/schedule/csv/2008/09/20080904.csv', 'output/thecurrent/schedule/html/by_day/2008/09/20080904.html', 'output/thecurrent/schedule/csv/2008/09/20080910.csv', 'output/thecurrent/schedule/html/by_day/2008/09/20080910.html', 'output/thecurrent/schedule/csv/2009/01/20090105.csv', 'output/thecurrent/schedule/html/by_day/2009/01/20090105.html', 'output/thecurrent/schedule/csv/2009/01/20090128.csv', 'output/thecurrent/schedule/html/by_day/2009/01/20090128.html', 'output/thecurrent/schedule/csv/2010/02/20100203.csv', 'output/thecurrent/schedule/html/by_day/2010/02/20100203.html', 'output/thecurrent/schedule/csv/2010/04/20100412.csv', 'output/thecurrent/schedule/html/by_day/2010/04/20100412.html', 'output/thecurrent/schedule/csv/2010/06/20100606.csv', 'output/thecurrent/schedule/html/by_day/2010/06/20100606.html', 'output/thecurrent/schedule/csv/2010/11/20101104.csv', 'output/thecurrent/schedule/html/by_day/2010/11/20101104.html', 'output/thecurrent/schedule/csv/2011/01/20110116.csv', 'output/thecurrent/schedule/html/by_day/2011/01/20110116.html', 'output/thecurrent/schedule/csv/2011/01/20110123.csv', 'output/thecurrent/schedule/html/by_day/2011/01/20110123.html', 'output/thecurrent/schedule/csv/2011/02/20110202.csv', 'output/thecurrent/schedule/html/by_day/2011/02/20110202.html', 'output/thecurrent/schedule/csv/2011/06/20110608.csv', 'output/thecurrent/schedule/html/by_day/2011/06/20110608.html', 'output/thecurrent/schedule/csv/2011/06/20110612.csv', 'output/thecurrent/schedule/html/by_day/2011/06/20110612.html', 'output/thecurrent/schedule/csv/2011/08/20110827.csv', 'output/thecurrent/schedule/html/by_day/2011/08/20110827.html', 'output/thecurrent/schedule/csv/2011/09/20110916.csv', 'output/thecurrent/schedule/html/by_day/2011/09/20110916.html', 'output/thecurrent/schedule/csv/2011/10/20111002.csv', 'output/thecurrent/schedule/html/by_day/2011/10/20111002.html', 'output/thecurrent/schedule/csv/2011/10/20111019.csv', 'output/thecurrent/schedule/html/by_day/2011/10/20111019.html', 'output/thecurrent/schedule/csv/2011/11/20111114.csv', 'output/thecurrent/schedule/html/by_day/2011/11/20111114.html', 'output/thecurrent/schedule/csv/2012/08/20120817.csv', 'output/thecurrent/schedule/html/by_day/2012/08/20120817.html', 'output/thecurrent/schedule/csv/2012/08/20120825.csv', 'output/thecurrent/schedule/html/by_day/2012/08/20120825.html', 'output/thecurrent/schedule/csv/2012/11/20121114.csv', 'output/thecurrent/schedule/html/by_day/2012/11/20121114.html', 'output/thecurrent/schedule/csv/2012/11/20121123.csv', 'output/thecurrent/schedule/html/by_day/2012/11/20121123.html', 'output/thecurrent/schedule/csv/2013/01/20130126.csv', 'output/thecurrent/schedule/html/by_day/2013/01/20130126.html', 'output/thecurrent/schedule/csv/2013/02/20130206.csv', 'output/thecurrent/schedule/html/by_day/2013/02/20130206.html', 'output/thecurrent/schedule/csv/2013/04/20130423.csv', 'output/thecurrent/schedule/html/by_day/2013/04/20130423.html', 'output/thecurrent/schedule/csv/2013/08/20130809.csv', 'output/thecurrent/schedule/html/by_day/2013/08/20130809.html', 'output/thecurrent/schedule/csv/2013/09/20130916.csv', 'output/thecurrent/schedule/html/by_day/2013/09/20130916.html', 'output/thecurrent/schedule/csv/2013/11/20131126.csv', 'output/thecurrent/schedule/html/by_day/2013/11/20131126.html', 'output/thecurrent/schedule/csv/2015/06/20150606.csv', 'output/thecurrent/schedule/html/by_day/2015/06/20150606.html', 'output/thecurrent/schedule/csv/2015/12/20151215.csv', 'output/thecurrent/schedule/html/by_day/2015/12/20151215.html', 'output/thecurrent/schedule/csv/2016/01/20160112.csv', 'output/thecurrent/schedule/html/by_day/2016/01/20160112.html', 'output/thecurrent/schedule/csv/2016/03/20160314.csv', 'output/thecurrent/schedule/html/by_day/2016/03/20160314.html', 'output/thecurrent/schedule/csv/2016/05/20160528.csv', 'output/thecurrent/schedule/html/by_day/2016/05/20160528.html', 'output/thecurrent/schedule/csv/2016/07/20160707.csv', 'output/thecurrent/schedule/html/by_day/2016/07/20160707.html', 'output/thecurrent/schedule/csv/2016/07/20160718.csv', 'output/thecurrent/schedule/html/by_day/2016/07/20160718.html', 'output/thecurrent/schedule/csv/2016/09/20160909.csv', 'output/thecurrent/schedule/html/by_day/2016/09/20160909.html', 'output/thecurrent/schedule/csv/2016/10/20161029.csv', 'output/thecurrent/schedule/html/by_day/2016/10/20161029.html', 'output/thecurrent/schedule/csv/2016/12/20161218.csv', 'output/thecurrent/schedule/html/by_day/2016/12/20161218.html', 'output/thecurrent/schedule/csv/2017/01/20170112.csv', 'output/thecurrent/schedule/html/by_day/2017/01/20170112.html', 'output/thecurrent/schedule/csv/2017/03/20170307.csv', 'output/thecurrent/schedule/html/by_day/2017/03/20170307.html', 'output/thecurrent/schedule/csv/2018/08/20180812.csv', 'output/thecurrent/schedule/html/by_day/2018/08/20180812.html', 'output/thecurrent/schedule/csv/2019/10/20191020.csv', 'output/thecurrent/schedule/html/by_day/2019/10/20191020.html', 'output/thecurrent/schedule/csv/2020/01/20200128.csv', 'output/thecurrent/schedule/html/by_day/2020/01/20200128.html', 'output/thecurrent/schedule/csv/2020/02/20200212.csv', 'output/thecurrent/schedule/html/by_day/2020/02/20200212.html']\n"
     ]
    }
   ],
   "source": [
    "print(files_to_remove)"
   ]
  },
  {
   "cell_type": "code",
   "execution_count": 19,
   "metadata": {},
   "outputs": [],
   "source": [
    "for f in files_to_remove:\n",
    "    if os.path.exists(f):\n",
    "        os.remove(f)"
   ]
  },
  {
   "cell_type": "code",
   "execution_count": null,
   "metadata": {},
   "outputs": [],
   "source": []
  }
 ],
 "metadata": {
  "kernelspec": {
   "display_name": "Python 3 (ipykernel)",
   "language": "python",
   "name": "python3"
  },
  "language_info": {
   "codemirror_mode": {
    "name": "ipython",
    "version": 3
   },
   "file_extension": ".py",
   "mimetype": "text/x-python",
   "name": "python",
   "nbconvert_exporter": "python",
   "pygments_lexer": "ipython3",
   "version": "3.9.6"
  }
 },
 "nbformat": 4,
 "nbformat_minor": 2
}
