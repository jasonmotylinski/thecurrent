{
 "cells": [
  {
   "cell_type": "code",
   "execution_count": 6,
   "metadata": {},
   "outputs": [
    {
     "ename": "MissingParameterException",
     "evalue": "SaveDayJsonToLocal[args=(), kwargs={}]: requires the 'date' parameter to be set",
     "output_type": "error",
     "traceback": [
      "\u001b[0;31m---------------------------------------------------------------------------\u001b[0m",
      "\u001b[0;31mMissingParameterException\u001b[0m                 Traceback (most recent call last)",
      "Cell \u001b[0;32mIn[6], line 12\u001b[0m\n\u001b[1;32m      8\u001b[0m     \u001b[38;5;28;01mif\u001b[39;00m \u001b[38;5;124m\"\u001b[39m\u001b[38;5;124mkutx\u001b[39m\u001b[38;5;124m\"\u001b[39m:\n\u001b[1;32m      9\u001b[0m         \u001b[38;5;28;01mreturn\u001b[39;00m kutx\n\u001b[0;32m---> 12\u001b[0m \u001b[43mfactory\u001b[49m\u001b[43m(\u001b[49m\u001b[38;5;124;43m\"\u001b[39;49m\u001b[38;5;124;43mkutx\u001b[39;49m\u001b[38;5;124;43m\"\u001b[39;49m\u001b[43m)\u001b[49m\u001b[38;5;241;43m.\u001b[39;49m\u001b[43mjson_tasks\u001b[49m\u001b[38;5;241;43m.\u001b[39;49m\u001b[43mSaveDayJsonToLocal\u001b[49m\u001b[43m(\u001b[49m\u001b[43m)\u001b[49m\n",
      "File \u001b[0;32m~/code/personal/thecurrent/venv/lib/python3.9/site-packages/luigi/task_register.py:87\u001b[0m, in \u001b[0;36mRegister.__call__\u001b[0;34m(cls, *args, **kwargs)\u001b[0m\n\u001b[1;32m     84\u001b[0m     \u001b[38;5;28;01mreturn\u001b[39;00m instantiate()\n\u001b[1;32m     86\u001b[0m params \u001b[38;5;241m=\u001b[39m \u001b[38;5;28mcls\u001b[39m\u001b[38;5;241m.\u001b[39mget_params()\n\u001b[0;32m---> 87\u001b[0m param_values \u001b[38;5;241m=\u001b[39m \u001b[38;5;28;43mcls\u001b[39;49m\u001b[38;5;241;43m.\u001b[39;49m\u001b[43mget_param_values\u001b[49m\u001b[43m(\u001b[49m\u001b[43mparams\u001b[49m\u001b[43m,\u001b[49m\u001b[43m \u001b[49m\u001b[43margs\u001b[49m\u001b[43m,\u001b[49m\u001b[43m \u001b[49m\u001b[43mkwargs\u001b[49m\u001b[43m)\u001b[49m\n\u001b[1;32m     89\u001b[0m k \u001b[38;5;241m=\u001b[39m (\u001b[38;5;28mcls\u001b[39m, \u001b[38;5;28mtuple\u001b[39m(param_values))\n\u001b[1;32m     91\u001b[0m \u001b[38;5;28;01mtry\u001b[39;00m:\n",
      "File \u001b[0;32m~/code/personal/thecurrent/venv/lib/python3.9/site-packages/luigi/task.py:425\u001b[0m, in \u001b[0;36mTask.get_param_values\u001b[0;34m(cls, params, args, kwargs)\u001b[0m\n\u001b[1;32m    423\u001b[0m             \u001b[38;5;28;01mraise\u001b[39;00m \u001b[38;5;167;01mValueError\u001b[39;00m(\u001b[38;5;124m\"\u001b[39m\u001b[38;5;132;01m%s\u001b[39;00m\u001b[38;5;124m: Error when parsing the default value of \u001b[39m\u001b[38;5;124m'\u001b[39m\u001b[38;5;132;01m%s\u001b[39;00m\u001b[38;5;124m'\u001b[39m\u001b[38;5;124m\"\u001b[39m \u001b[38;5;241m%\u001b[39m (exc_desc, param_name)) \u001b[38;5;28;01mfrom\u001b[39;00m \u001b[38;5;21;01mexc\u001b[39;00m\n\u001b[1;32m    424\u001b[0m         \u001b[38;5;28;01mif\u001b[39;00m \u001b[38;5;129;01mnot\u001b[39;00m has_task_value:\n\u001b[0;32m--> 425\u001b[0m             \u001b[38;5;28;01mraise\u001b[39;00m parameter\u001b[38;5;241m.\u001b[39mMissingParameterException(\u001b[38;5;124m\"\u001b[39m\u001b[38;5;132;01m%s\u001b[39;00m\u001b[38;5;124m: requires the \u001b[39m\u001b[38;5;124m'\u001b[39m\u001b[38;5;132;01m%s\u001b[39;00m\u001b[38;5;124m'\u001b[39m\u001b[38;5;124m parameter to be set\u001b[39m\u001b[38;5;124m\"\u001b[39m \u001b[38;5;241m%\u001b[39m (exc_desc, param_name))\n\u001b[1;32m    426\u001b[0m         result[param_name] \u001b[38;5;241m=\u001b[39m param_obj\u001b[38;5;241m.\u001b[39mtask_value(task_family, param_name)\n\u001b[1;32m    428\u001b[0m \u001b[38;5;28;01mdef\u001b[39;00m \u001b[38;5;21mlist_to_tuple\u001b[39m(x):\n",
      "\u001b[0;31mMissingParameterException\u001b[0m: SaveDayJsonToLocal[args=(), kwargs={}]: requires the 'date' parameter to be set"
     ]
    }
   ],
   "source": [
    "import pipelines.kexp as kexp\n",
    "import pipelines.kutx as kutx\n",
    "\n",
    "\n",
    "def factory(servicename):\n",
    "    if \"kexp\":\n",
    "        return kexp\n",
    "    if \"kutx\":\n",
    "        return kutx\n",
    "    \n",
    "\n",
    "factory(\"kutx\").json_tasks.SaveDayJsonToLocal()\n"
   ]
  }
 ],
 "metadata": {
  "kernelspec": {
   "display_name": "venv",
   "language": "python",
   "name": "python3"
  },
  "language_info": {
   "codemirror_mode": {
    "name": "ipython",
    "version": 3
   },
   "file_extension": ".py",
   "mimetype": "text/x-python",
   "name": "python",
   "nbconvert_exporter": "python",
   "pygments_lexer": "ipython3",
   "version": "3.9.6"
  }
 },
 "nbformat": 4,
 "nbformat_minor": 2
}
