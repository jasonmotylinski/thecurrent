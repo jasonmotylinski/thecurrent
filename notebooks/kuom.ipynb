{
 "cells": [
  {
   "cell_type": "code",
   "execution_count": 23,
   "metadata": {},
   "outputs": [],
   "source": [
    "import config\n",
    "import bs4 as bs\n",
    "import json\n",
    "from datetime import datetime, timezone, timedelta\n",
    "from parsers.kuom import KuomParser"
   ]
  },
  {
   "cell_type": "code",
   "execution_count": 31,
   "metadata": {},
   "outputs": [
    {
     "name": "stdout",
     "output_type": "stream",
     "text": [
      "{'song': 'Freak Insight', 'artist': 'Divine Interface', 'played_at': datetime.datetime(2024, 11, 2, 11, 58, tzinfo=datetime.timezone(datetime.timedelta(days=-1, seconds=68400)))}\n",
      "{'song': 'Telepathic Love (Wipers Cover)', 'artist': 'Lifeguard', 'played_at': datetime.datetime(2024, 11, 2, 11, 57, tzinfo=datetime.timezone(datetime.timedelta(days=-1, seconds=68400)))}\n",
      "{'song': \"What's The Rumpus\", 'artist': 'Jack White', 'played_at': datetime.datetime(2024, 11, 2, 11, 53, tzinfo=datetime.timezone(datetime.timedelta(days=-1, seconds=68400)))}\n",
      "{'song': 'Ground Zero', 'artist': 'Clikatat Ikatowi (pronounced Ckick-a-tat Ik-a-tow-ee)', 'played_at': datetime.datetime(2024, 11, 2, 11, 50, tzinfo=datetime.timezone(datetime.timedelta(days=-1, seconds=68400)))}\n",
      "{'song': 'Medicine River', 'artist': 'Bizhiki (pronounced bee-zjee-KEE)', 'played_at': datetime.datetime(2024, 11, 2, 11, 46, tzinfo=datetime.timezone(datetime.timedelta(days=-1, seconds=68400)))}\n",
      "{'song': 'Humanity', 'artist': 'Lava La Rue', 'played_at': datetime.datetime(2024, 11, 2, 11, 42, tzinfo=datetime.timezone(datetime.timedelta(days=-1, seconds=68400)))}\n",
      "{'song': 'Certainly (Flipped It)', 'artist': 'Erykah Badu', 'played_at': datetime.datetime(2024, 11, 2, 11, 37, tzinfo=datetime.timezone(datetime.timedelta(days=-1, seconds=68400)))}\n",
      "{'song': \"Can't Get Enough\", 'artist': 'Dirty Bird', 'played_at': datetime.datetime(2024, 11, 2, 11, 32, tzinfo=datetime.timezone(datetime.timedelta(days=-1, seconds=68400)))}\n",
      "{'song': 'Innerface', 'artist': 'Machine Girl', 'played_at': datetime.datetime(2024, 11, 2, 11, 30, tzinfo=datetime.timezone(datetime.timedelta(days=-1, seconds=68400)))}\n",
      "{'song': 'Go West', 'artist': 'Liz Phair', 'played_at': datetime.datetime(2024, 11, 2, 11, 26, tzinfo=datetime.timezone(datetime.timedelta(days=-1, seconds=68400)))}\n",
      "{'song': 'Crystals (feat. Benjamin Gibbard) [Radio Edit]', 'artist': 'Sea Lemon', 'played_at': datetime.datetime(2024, 11, 2, 11, 22, tzinfo=datetime.timezone(datetime.timedelta(days=-1, seconds=68400)))}\n",
      "{'song': 'Break it off', 'artist': 'PinkPantheress', 'played_at': datetime.datetime(2024, 11, 2, 11, 21, tzinfo=datetime.timezone(datetime.timedelta(days=-1, seconds=68400)))}\n",
      "{'song': \"I Don't Wanna\", 'artist': 'Fcukers', 'played_at': datetime.datetime(2024, 11, 2, 11, 18, tzinfo=datetime.timezone(datetime.timedelta(days=-1, seconds=68400)))}\n",
      "{'song': 'Anything But Me', 'artist': 'MUNA', 'played_at': datetime.datetime(2024, 11, 2, 11, 14, tzinfo=datetime.timezone(datetime.timedelta(days=-1, seconds=68400)))}\n",
      "{'song': 'When I Fall Asleep (OTR 4.5.24)', 'artist': 'Odd Prospect', 'played_at': datetime.datetime(2024, 11, 2, 11, 9, tzinfo=datetime.timezone(datetime.timedelta(days=-1, seconds=68400)))}\n",
      "{'song': 'The Matter', 'artist': 'Walkabouts', 'played_at': datetime.datetime(2024, 11, 2, 11, 6, tzinfo=datetime.timezone(datetime.timedelta(days=-1, seconds=68400)))}\n",
      "{'song': 'The Flower Called Nowhere', 'artist': 'Stereolab', 'played_at': datetime.datetime(2024, 11, 2, 11, 1, tzinfo=datetime.timezone(datetime.timedelta(days=-1, seconds=68400)))}\n",
      "{'song': \"Dead Man's Party\", 'artist': 'Oingo Boingo', 'played_at': datetime.datetime(2024, 11, 2, 10, 51, tzinfo=datetime.timezone(datetime.timedelta(days=-1, seconds=68400)))}\n",
      "{'song': 'Genius of Love', 'artist': 'Tom Tom Club', 'played_at': datetime.datetime(2024, 11, 2, 10, 46, tzinfo=datetime.timezone(datetime.timedelta(days=-1, seconds=68400)))}\n",
      "{'song': 'Mahal', 'artist': 'Glass Beams', 'played_at': datetime.datetime(2024, 11, 2, 10, 42, tzinfo=datetime.timezone(datetime.timedelta(days=-1, seconds=68400)))}\n",
      "{'song': 'Roadkill', 'artist': 'Jahnah Camille', 'played_at': datetime.datetime(2024, 11, 2, 10, 39, tzinfo=datetime.timezone(datetime.timedelta(days=-1, seconds=68400)))}\n",
      "{'song': 'Groove Is In the Heart', 'artist': 'Deee-Lite', 'played_at': datetime.datetime(2024, 11, 2, 10, 35, tzinfo=datetime.timezone(datetime.timedelta(days=-1, seconds=68400)))}\n",
      "{'song': 'Here Comes Your Man', 'artist': 'Pixies', 'played_at': datetime.datetime(2024, 11, 2, 10, 31, tzinfo=datetime.timezone(datetime.timedelta(days=-1, seconds=68400)))}\n",
      "{'song': 'Pink in the Night', 'artist': 'Mitski', 'played_at': datetime.datetime(2024, 11, 2, 10, 29, tzinfo=datetime.timezone(datetime.timedelta(days=-1, seconds=68400)))}\n",
      "{'song': 'Spots', 'artist': 'Enumclaw', 'played_at': datetime.datetime(2024, 11, 2, 10, 27, tzinfo=datetime.timezone(datetime.timedelta(days=-1, seconds=68400)))}\n",
      "{'song': 'maxd', 'artist': 'Tabah', 'played_at': datetime.datetime(2024, 11, 2, 10, 20, tzinfo=datetime.timezone(datetime.timedelta(days=-1, seconds=68400)))}\n",
      "{'song': 'Somebody to Love', 'artist': 'Jefferson Airplane', 'played_at': datetime.datetime(2024, 11, 2, 10, 15, tzinfo=datetime.timezone(datetime.timedelta(days=-1, seconds=68400)))}\n",
      "{'song': 'Be Better', 'artist': 'Tasha', 'played_at': datetime.datetime(2024, 11, 2, 10, 12, tzinfo=datetime.timezone(datetime.timedelta(days=-1, seconds=68400)))}\n",
      "{'song': 'We Get By', 'artist': 'Jordana', 'played_at': datetime.datetime(2024, 11, 2, 10, 8, tzinfo=datetime.timezone(datetime.timedelta(days=-1, seconds=68400)))}\n",
      "{'song': 'Blue Light', 'artist': 'Mazzy Star', 'played_at': datetime.datetime(2024, 11, 2, 10, 2, tzinfo=datetime.timezone(datetime.timedelta(days=-1, seconds=68400)))}\n",
      "{'song': \"Hello It's Me\", 'artist': 'Todd Rundgren', 'played_at': datetime.datetime(2024, 11, 2, 9, 58, tzinfo=datetime.timezone(datetime.timedelta(days=-1, seconds=68400)))}\n",
      "{'song': 'Blue', 'artist': 'Little Moon', 'played_at': datetime.datetime(2024, 11, 2, 9, 55, tzinfo=datetime.timezone(datetime.timedelta(days=-1, seconds=68400)))}\n",
      "{'song': 'Blue', 'artist': 'Little Moon', 'played_at': datetime.datetime(2024, 11, 2, 9, 54, tzinfo=datetime.timezone(datetime.timedelta(days=-1, seconds=68400)))}\n",
      "{'song': 'I Am (I Was)', 'artist': 'Crack Cloud', 'played_at': datetime.datetime(2024, 11, 2, 9, 48, tzinfo=datetime.timezone(datetime.timedelta(days=-1, seconds=68400)))}\n",
      "{'song': 'I Am (I Was)', 'artist': 'Crack Cloud', 'played_at': datetime.datetime(2024, 11, 2, 9, 48, tzinfo=datetime.timezone(datetime.timedelta(days=-1, seconds=68400)))}\n",
      "{'song': 'Certainty', 'artist': 'Big Thief', 'played_at': datetime.datetime(2024, 11, 2, 9, 44, tzinfo=datetime.timezone(datetime.timedelta(days=-1, seconds=68400)))}\n",
      "{'song': 'Certainty', 'artist': 'Big Thief', 'played_at': datetime.datetime(2024, 11, 2, 9, 44, tzinfo=datetime.timezone(datetime.timedelta(days=-1, seconds=68400)))}\n",
      "{'song': 'My Girls', 'artist': 'Animal Collective', 'played_at': datetime.datetime(2024, 11, 2, 9, 37, tzinfo=datetime.timezone(datetime.timedelta(days=-1, seconds=68400)))}\n",
      "{'song': 'Sullen Girl', 'artist': 'Fiona Apple', 'played_at': datetime.datetime(2024, 11, 2, 9, 34, tzinfo=datetime.timezone(datetime.timedelta(days=-1, seconds=68400)))}\n",
      "{'song': 'Girl With One Eye', 'artist': 'Florence + the Machine', 'played_at': datetime.datetime(2024, 11, 2, 9, 30, tzinfo=datetime.timezone(datetime.timedelta(days=-1, seconds=68400)))}\n",
      "{'song': 'Girl', 'artist': 'Beck', 'played_at': datetime.datetime(2024, 11, 2, 9, 27, tzinfo=datetime.timezone(datetime.timedelta(days=-1, seconds=68400)))}\n",
      "{'song': 'Time Baby III', 'artist': 'Medicine', 'played_at': datetime.datetime(2024, 11, 2, 9, 22, tzinfo=datetime.timezone(datetime.timedelta(days=-1, seconds=68400)))}\n",
      "{'song': 'want', 'artist': 'Dua Saleh', 'played_at': datetime.datetime(2024, 11, 2, 9, 22, tzinfo=datetime.timezone(datetime.timedelta(days=-1, seconds=68400)))}\n",
      "{'song': 'want', 'artist': 'Dua Saleh', 'played_at': datetime.datetime(2024, 11, 2, 9, 19, tzinfo=datetime.timezone(datetime.timedelta(days=-1, seconds=68400)))}\n",
      "{'song': \"Rock n' Roll Hurts\", 'artist': 'Being Dead', 'played_at': datetime.datetime(2024, 11, 2, 9, 17, tzinfo=datetime.timezone(datetime.timedelta(days=-1, seconds=68400)))}\n",
      "{'song': \"Rock n' Roll Hurts\", 'artist': 'Being Dead', 'played_at': datetime.datetime(2024, 11, 2, 9, 17, tzinfo=datetime.timezone(datetime.timedelta(days=-1, seconds=68400)))}\n",
      "{'song': \"Why Can't I Be You?\", 'artist': 'The Cure', 'played_at': datetime.datetime(2024, 11, 2, 9, 14, tzinfo=datetime.timezone(datetime.timedelta(days=-1, seconds=68400)))}\n",
      "{'song': 'Rhiannon', 'artist': 'Fleetwood Mac', 'played_at': datetime.datetime(2024, 11, 2, 9, 8, tzinfo=datetime.timezone(datetime.timedelta(days=-1, seconds=68400)))}\n",
      "{'song': 'Postcard From A Cloud', 'artist': 'Kate Bollinger', 'played_at': datetime.datetime(2024, 11, 2, 9, 6, tzinfo=datetime.timezone(datetime.timedelta(days=-1, seconds=68400)))}\n",
      "{'song': 'I Want It to Be Real', 'artist': 'Bodysync', 'played_at': datetime.datetime(2024, 11, 2, 9, 6, tzinfo=datetime.timezone(datetime.timedelta(days=-1, seconds=68400)))}\n",
      "{'song': 'Postcard From A Cloud', 'artist': 'Kate Bollinger', 'played_at': datetime.datetime(2024, 11, 2, 9, 4, tzinfo=datetime.timezone(datetime.timedelta(days=-1, seconds=68400)))}\n",
      "{'song': 'I Want It To Be Real', 'artist': 'Bodysync', 'played_at': datetime.datetime(2024, 11, 2, 9, 0, tzinfo=datetime.timezone(datetime.timedelta(days=-1, seconds=68400)))}\n",
      "{'song': 'Amoeba', 'artist': 'Clairo', 'played_at': datetime.datetime(2024, 11, 2, 8, 57, tzinfo=datetime.timezone(datetime.timedelta(days=-1, seconds=68400)))}\n",
      "{'song': 'Knives Out', 'artist': 'Radiohead', 'played_at': datetime.datetime(2024, 11, 2, 8, 50, tzinfo=datetime.timezone(datetime.timedelta(days=-1, seconds=68400)))}\n",
      "{'song': 'S P E Y S I D E', 'artist': 'Bon Iver', 'played_at': datetime.datetime(2024, 11, 2, 8, 47, tzinfo=datetime.timezone(datetime.timedelta(days=-1, seconds=68400)))}\n",
      "{'song': 'checkers', 'artist': 'mold', 'played_at': datetime.datetime(2024, 11, 2, 8, 45, tzinfo=datetime.timezone(datetime.timedelta(days=-1, seconds=68400)))}\n",
      "{'song': \"Isn't It a Pity (Version 1) [2020 Mix]\", 'artist': 'George Harrison', 'played_at': datetime.datetime(2024, 11, 2, 8, 38, tzinfo=datetime.timezone(datetime.timedelta(days=-1, seconds=68400)))}\n",
      "{'song': '(Not Just) Knee Deep', 'artist': 'Funkadelic', 'played_at': datetime.datetime(2024, 11, 2, 8, 32, tzinfo=datetime.timezone(datetime.timedelta(days=-1, seconds=68400)))}\n",
      "{'song': 'deep sea leaks', 'artist': 'Google Earth', 'played_at': datetime.datetime(2024, 11, 2, 8, 28, tzinfo=datetime.timezone(datetime.timedelta(days=-1, seconds=68400)))}\n",
      "{'song': 'Honeycrash', 'artist': 'SASAMI', 'played_at': datetime.datetime(2024, 11, 2, 8, 24, tzinfo=datetime.timezone(datetime.timedelta(days=-1, seconds=68400)))}\n"
     ]
    }
   ],
   "source": [
    "file_path=\"output/kuom/json/by_day/2024/11/playlist_20241102.json\"\n",
    "_date=datetime(2024,11,2)\n",
    "\n",
    "with open(file_path, 'r') as reader:  # 'r' is for read mode\n",
    "    for spin in bs.BeautifulSoup(json.load(reader)[0]['data']).select('li', {'class': 'spinitron_playlist__spin'}):\n",
    "        song=spin.find('div',{'class': 'spinitron_playlist__spin--song'}).text.strip()\n",
    "        artist=spin.find('div',{'class': 'spinitron_playlist__spin--artist'}).text.strip()\n",
    "        tme=spin.find('div',{'class': 'spinitron_playlist__spin--start'}).text.strip()\n",
    "        d=datetime.strptime(_date.strftime(\"%Y-%m-%d\") + \" \" + tme, \"%Y-%m-%d %H:%M %p\")\n",
    "        played_at=d.replace(tzinfo=timezone(timedelta(hours=-5)))\n",
    "        print({\"song\": song, \"artist\": artist, \"played_at\": played_at})\n"
   ]
  }
 ],
 "metadata": {
  "kernelspec": {
   "display_name": "venv",
   "language": "python",
   "name": "python3"
  },
  "language_info": {
   "codemirror_mode": {
    "name": "ipython",
    "version": 3
   },
   "file_extension": ".py",
   "mimetype": "text/x-python",
   "name": "python",
   "nbconvert_exporter": "python",
   "pygments_lexer": "ipython3",
   "version": "3.9.6"
  }
 },
 "nbformat": 4,
 "nbformat_minor": 2
}
