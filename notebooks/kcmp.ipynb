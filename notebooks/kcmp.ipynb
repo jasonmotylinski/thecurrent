{
 "cells": [
  {
   "cell_type": "code",
   "execution_count": null,
   "metadata": {},
   "outputs": [
    {
     "data": {
      "text/plain": [
       "[{'title': 'Never Be You',\n",
       "  'artist': 'Tom Petty and The Heartbreakers',\n",
       "  'album': 'Long After Dark (Deluxe Edition)',\n",
       "  'played_at': '2024-11-04T11:07:00-05:00',\n",
       "  'id': 'db6687191c492097181c73922a94c0495f9d9fe0dcf868cc33f351e6a0e85edd',\n",
       "  'played_at_dt': datetime.datetime(2024, 11, 4, 11, 7, tzinfo=tzoffset(None, -18000))},\n",
       " {'title': 'People Have The Power',\n",
       "  'artist': 'Patti Smith',\n",
       "  'album': 'Live Current 5-Year Anniversary',\n",
       "  'played_at': '2024-11-04T11:01:00-05:00',\n",
       "  'id': '01423b8227d19e7c83cb6c112d9a4e3e9e57322d3fb15f54744441ec0e234e05',\n",
       "  'played_at_dt': datetime.datetime(2024, 11, 4, 11, 1, tzinfo=tzoffset(None, -18000))}]"
      ]
     },
     "execution_count": 7,
     "metadata": {},
     "output_type": "execute_result"
    }
   ],
   "source": [
    "import logging\n",
    "import pytz\n",
    "from datetime import datetime\n",
    "from pipelines.thecurrent.playlist import get_hour_html, get_songs\n",
    "\n",
    "def get_timezone_offset():\n",
    "    timezone_name = 'America/New_York'  \n",
    "    timezone = pytz.timezone(timezone_name)\n",
    "    local_time = datetime.now(timezone)\n",
    "    is_dst = bool(local_time.dst())\n",
    "    \n",
    "    logging.info(\"get_timezone_offset: is_dst: {0}\".format(is_dst))\n",
    "    if is_dst:\n",
    "        return -1\n",
    "    else:\n",
    "        return 0\n",
    "\n",
    "\n",
    "def get_recent_songs():\n",
    "    dte=datetime.now()\n",
    "    year=dte.year\n",
    "    month=dte.month\n",
    "    day=dte.day\n",
    "    hour=dte.hour - get_timezone_offset()\n",
    "\n",
    "    html=get_hour_html(year, month, day, hour)\n",
    "    return get_songs(html)"
   ]
  }
 ],
 "metadata": {
  "kernelspec": {
   "display_name": "venv",
   "language": "python",
   "name": "python3"
  },
  "language_info": {
   "codemirror_mode": {
    "name": "ipython",
    "version": 3
   },
   "file_extension": ".py",
   "mimetype": "text/x-python",
   "name": "python",
   "nbconvert_exporter": "python",
   "pygments_lexer": "ipython3",
   "version": "3.9.6"
  }
 },
 "nbformat": 4,
 "nbformat_minor": 2
}
