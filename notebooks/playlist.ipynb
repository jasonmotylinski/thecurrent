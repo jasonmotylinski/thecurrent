{
 "cells": [
  {
   "cell_type": "code",
   "execution_count": 1,
   "metadata": {},
   "outputs": [
    {
     "name": "stdout",
     "output_type": "stream",
     "text": [
      "{\"schema\":{\"fields\":[{\"name\":\"index\",\"type\":\"integer\"},{\"name\":\"artist\",\"type\":\"string\"},{\"name\":\"title\",\"type\":\"string\"},{\"name\":\"ct\",\"type\":\"integer\"}],\"primaryKey\":[\"index\"],\"pandas_version\":\"1.4.0\"},\"data\":[{\"index\":0,\"artist\":\"The Avett Brothers\",\"title\":\"Love Of A Girl\",\"ct\":16},{\"index\":1,\"artist\":\"Kings of Leon\",\"title\":\"Mustang\",\"ct\":15},{\"index\":2,\"artist\":\"Maggie Rogers\",\"title\":\"Don't Forget Me\",\"ct\":15},{\"index\":3,\"artist\":\"The Decemberists\",\"title\":\"Burial Ground\",\"ct\":15},{\"index\":4,\"artist\":\"The Vaccines\",\"title\":\"Heartbreak Kid\",\"ct\":15},{\"index\":5,\"artist\":\"Waxahatchee\",\"title\":\"Right Back To It feat. MJ Lenderman\",\"ct\":15},{\"index\":6,\"artist\":\"Cage The Elephant\",\"title\":\"Neon Pill\",\"ct\":14},{\"index\":7,\"artist\":\"Pearl Jam\",\"title\":\"Dark Matter\",\"ct\":14},{\"index\":8,\"artist\":\"St. Vincent\",\"title\":\"Broken Man\",\"ct\":14},{\"index\":9,\"artist\":\"The Black Keys\",\"title\":\"Beautiful People (Stay High)\",\"ct\":14}]}\n"
     ]
    },
    {
     "ename": "TypeError",
     "evalue": "string indices must be integers",
     "output_type": "error",
     "traceback": [
      "\u001b[0;31m---------------------------------------------------------------------------\u001b[0m",
      "\u001b[0;31mTypeError\u001b[0m                                 Traceback (most recent call last)",
      "Cell \u001b[0;32mIn[1], line 3\u001b[0m\n\u001b[1;32m      1\u001b[0m \u001b[38;5;28;01mfrom\u001b[39;00m \u001b[38;5;21;01mdashboard\u001b[39;00m \u001b[38;5;28;01mimport\u001b[39;00m playlists\n\u001b[0;32m----> 3\u001b[0m \u001b[43mplaylists\u001b[49m\u001b[38;5;241;43m.\u001b[39;49m\u001b[43mupdate_popular_artist_title_last_week_playlist\u001b[49m\u001b[43m(\u001b[49m\u001b[43m)\u001b[49m\n",
      "File \u001b[0;32m~/code/personal/thecurrent/dashboard/playlists.py:7\u001b[0m, in \u001b[0;36mupdate_popular_artist_title_last_week_playlist\u001b[0;34m()\u001b[0m\n\u001b[1;32m      5\u001b[0m artist_titles \u001b[38;5;241m=\u001b[39m data\u001b[38;5;241m.\u001b[39mget_popular_artist_title_last_week()\u001b[38;5;241m.\u001b[39mto_json(orient\u001b[38;5;241m=\u001b[39m\u001b[38;5;124m'\u001b[39m\u001b[38;5;124mtable\u001b[39m\u001b[38;5;124m'\u001b[39m)\n\u001b[1;32m      6\u001b[0m \u001b[38;5;28mprint\u001b[39m(artist_titles)\n\u001b[0;32m----> 7\u001b[0m \u001b[43mplaylist\u001b[49m\u001b[38;5;241;43m.\u001b[39;49m\u001b[43mupdate_playlist\u001b[49m\u001b[43m(\u001b[49m\u001b[43martist_titles\u001b[49m\u001b[43m)\u001b[49m\n",
      "File \u001b[0;32m~/code/personal/thecurrent/venv/lib/python3.9/site-packages/rawkit_playlist/playlist.py:48\u001b[0m, in \u001b[0;36mupdate_playlist\u001b[0;34m(songs)\u001b[0m\n\u001b[1;32m     45\u001b[0m clear_playlist(user_id,playlist_id)\n\u001b[1;32m     47\u001b[0m \u001b[38;5;66;03m# adding the tracks ids of the songs to the rawkit playlist\u001b[39;00m\n\u001b[0;32m---> 48\u001b[0m spotify\u001b[38;5;241m.\u001b[39muser_playlist_add_tracks(user\u001b[38;5;241m=\u001b[39muser_id,playlist_id\u001b[38;5;241m=\u001b[39mplaylist_id,tracks\u001b[38;5;241m=\u001b[39m\u001b[43mcompile_track_ids\u001b[49m\u001b[43m(\u001b[49m\u001b[43msongs\u001b[49m\u001b[43m)\u001b[49m)\n",
      "File \u001b[0;32m~/code/personal/thecurrent/venv/lib/python3.9/site-packages/rawkit_playlist/playlist.py:24\u001b[0m, in \u001b[0;36mcompile_track_ids\u001b[0;34m(tracks)\u001b[0m\n\u001b[1;32m     22\u001b[0m playlist_ids \u001b[38;5;241m=\u001b[39m []\n\u001b[1;32m     23\u001b[0m \u001b[38;5;28;01mfor\u001b[39;00m track_info \u001b[38;5;129;01min\u001b[39;00m tracks:\n\u001b[0;32m---> 24\u001b[0m     results \u001b[38;5;241m=\u001b[39m spotify\u001b[38;5;241m.\u001b[39msearch(q\u001b[38;5;241m=\u001b[39m\u001b[38;5;124mf\u001b[39m\u001b[38;5;124m\"\u001b[39m\u001b[38;5;132;01m{\u001b[39;00m\u001b[38;5;250m \u001b[39mtrack_info[\u001b[38;5;124m'\u001b[39m\u001b[38;5;124martist_name\u001b[39m\u001b[38;5;124m'\u001b[39m]\u001b[38;5;250m \u001b[39m\u001b[38;5;132;01m}\u001b[39;00m\u001b[38;5;124m,\u001b[39m\u001b[38;5;132;01m{\u001b[39;00m\u001b[38;5;250m \u001b[39mtrack_info[\u001b[38;5;124m'\u001b[39m\u001b[38;5;124msong_name\u001b[39m\u001b[38;5;124m'\u001b[39m]\u001b[38;5;250m \u001b[39m\u001b[38;5;132;01m}\u001b[39;00m\u001b[38;5;124m\"\u001b[39m)[\u001b[38;5;124m\"\u001b[39m\u001b[38;5;124mtracks\u001b[39m\u001b[38;5;124m\"\u001b[39m][\u001b[38;5;124m\"\u001b[39m\u001b[38;5;124mitems\u001b[39m\u001b[38;5;124m\"\u001b[39m][\u001b[38;5;241m0\u001b[39m][\u001b[38;5;124m\"\u001b[39m\u001b[38;5;124muri\u001b[39m\u001b[38;5;124m\"\u001b[39m]\n\u001b[1;32m     25\u001b[0m     playlist_ids \u001b[38;5;241m+\u001b[39m\u001b[38;5;241m=\u001b[39m [results]\n\u001b[1;32m     26\u001b[0m \u001b[38;5;28;01mreturn\u001b[39;00m playlist_ids\n",
      "\u001b[0;31mTypeError\u001b[0m: string indices must be integers"
     ]
    }
   ],
   "source": [
    "from dashboard import playlists\n",
    "\n",
    "playlists.update_popular_artist_title_last_week_playlist()"
   ]
  }
 ],
 "metadata": {
  "kernelspec": {
   "display_name": "Python 3 (ipykernel)",
   "language": "python",
   "name": "python3"
  },
  "language_info": {
   "codemirror_mode": {
    "name": "ipython",
    "version": 3
   },
   "file_extension": ".py",
   "mimetype": "text/x-python",
   "name": "python",
   "nbconvert_exporter": "python",
   "pygments_lexer": "ipython3",
   "version": "3.9.6"
  }
 },
 "nbformat": 4,
 "nbformat_minor": 2
}
