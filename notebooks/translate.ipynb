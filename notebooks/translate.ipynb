{
 "cells": [
  {
   "cell_type": "code",
   "execution_count": 1,
   "metadata": {},
   "outputs": [],
   "source": [
    "import duckdb\n",
    "\n",
    "\n",
    "def init():\n",
    "    sql = \"\"\"\n",
    "    SET GLOBAL sqlite_all_varchar = true;\n",
    "    ATTACH 'sqlite:thecurrent.sqlite3' AS sqlite;\n",
    "    ATTACH 'postgres:dbname=thecurrent' AS postgres;\n",
    "    \"\"\"\n",
    "    con = duckdb.connect(\"file.db\")\n",
    "    con.sql(sql)\n",
    "    return con\n",
    "\n",
    "con = init()\n"
   ]
  },
  {
   "cell_type": "code",
   "execution_count": 10,
   "metadata": {},
   "outputs": [
    {
     "ename": "IOException",
     "evalue": "IO Error: Failed to run query \"INSERT INTO `thecurrent`.`songs`  VALUES ('d62de870263fff5417d1518fdc3e198f5649b5ab9309cef3d633339ce5b9d010', 'Josh Ritter', 'The Curse', 'So Runs The World Away', '2010-07-16 05:46:35', 1, 2010, 7, 16, 'Friday', 28, 0), ('d850fdfb292644f9f685169982e5fa992d7efd6d8224e29c2e1dc651ca10c19f', 'Regina Spektor', 'Better', 'Begin to Hope', '2010-07-16 05:51:28', 1, 2010, 7, 16, 'Friday', 28, 0), ('6f0d46f3e07654dc0627bf0faeef8eb28523ab547aa0e87d40acd77589455cc0', 'Vampire Weekend', 'Giving Up The Gun', 'Contra', '2010-07-16 05:54:45', 1, 2010, 7, 16, 'Friday', 28, 0), ('69900e6aea21686d1007c6fc9e331d0dcf6d6659bdf5c7990cd54b86d7b504e8', 'The Police', 'Canary in a Coalmine', 'Zenyatta Mondatta', '2010-07-16 05:59:29', 1, 2010, 7, 16, 'Friday', 28, 0), ('3cb3af563997545de95a144beec9d5027738c26bc403a80631137cd808a5f972', 'M.I.A.', 'Born Free', '/\\/\\/\\Y/\\', '2010-07-16 06:03:05', 1, 2010, 7, 16, 'Friday', 28, 1), ('6ffc780b236f35c348ab3a9b2fdb7b131428cf5f7d45512ad4aaac90fa697860', 'XTC', 'No Thugs In Our House', 'English Settlement', '2010-07-16 06:07:27', 1, 2010, 7, 16, 'Friday', 28, 1), ('3f37a86aa20e97f00eef652c36805c9b8f945c7d22e80f6745aa2f98e68759a6', 'Sleigh Bells', 'Crown On The Ground', 'Treats', '2010-07-16 06:13:46', 1, 2010, 7, 16, 'Friday', 28, 1), ('9bb222530c93b1c9a6d5a05442bc5752acc76affa7c07ab0b256e8fba1501239', 'Amy Winehouse', 'He Can Only Hold Her', 'Back To Black', '2010-07-16 06:17:32', 1, 2010, 7, 16, 'Friday', 28, 1), ('1cb412c3a26bdd13813d271efa1b571a6181735228af32789d88eeb8513a77b3', 'Devo', 'Fresh', 'Fresh (single)', '2010-07-16 06:20:11', 1, 2010, 7, 16, 'Friday', 28, 1), ('527515f546a676158f38c7fc565d0b978d458285b209ea1ce67389ebe6573c32', 'Hot Chip', 'Ready For The Floor', '89.3 In-Studio Performance', '2010-07-16 06:23:15', 1, 2010, 7, 16, 'Friday', 28, 1), ('ecf119e31bbedacfee377878ee0f66fa2ae34bb252629f915039b271ecf2b4d3', 'Free Energy', 'All I Know', 'Free Energy', '2010-07-16 06:28:00', 1, 2010, 7, 16, 'Friday', 28, 1), ('fdb796d603dab65f764cc689c5047cf2737574c809867fc7de45437e6138bd1e', 'Love', '7 and 7 Is', 'Nuggets: Original Artyfacts From the First Psychedelic Era, Vol. 2', '2010-07-16 06:32:14', 1, 2010, 7, 16, 'Friday', 28, 1), ('b4bbdcae7b5c12ed582b015b8944eb95bb580227a2e14518580ff624f5063ce8', 'The Black Keys', 'Tighten Up', 'Brothers', '2010-07-16 06:34:31', 1, 2010, 7, 16, 'Friday', 28, 1), ('b786a5eaccb49cbf7572b55d4b873ceaedc7c6deee801c35b8cabf1499d02dfb', 'Kele', 'Everything You Wanted', 'The Boxer', '2010-07-16 06:39:00', 1, 2010, 7, 16, 'Friday', 28, 1), ('b930d39c87d19c4447fdb78ce82d512f2953fb92ccdb2a3bfbff7449702874f7', 'MGMT', 'Flash Delirium', 'Congratulations', '2010-07-16 06:42:31', 1, 2010, 7, 16, 'Friday', 28, 1), ('0b237ea22ef391bc3d5c31343551c66e98e4b9b61f9cded505eb896a5e1cf54c', 'Dessa', 'Dixon\\'s Girl', 'A Badly Broken Code', '2010-07-16 06:46:45', 1, 2010, 7, 16, 'Friday', 28, 1), ('d47e284e5239f5ad7e08bf283fd6ec7f28f93d293d305d6288bf4c54cd372938', 'The Mynabirds', 'Numbers Don\\'t Lie', 'What We Lose In The Fire we Gain In The Flood', '2010-07-16 06:50:17', 1, 2010, 7, 16, 'Friday', 28, 1), ('65ac5628052cdc3b07a834913b9f20cb6d8632b21a2463c368043b30346a07f5', 'Bonnie \\'Prince\\' Billy', 'Glory Goes', 'Lie Down in the Light', '2010-07-16 06:53:45', 1, 2010, 7, 16, 'Friday', 28, 1), ('18e355fef75d5ae7134406211095d010427868e783a4fbcac53df0527ddbf17b', 'Charlotte Gainsbourg', 'Time Of The Assassins', 'IRM', '2010-07-16 06:57:23', 1, 2010, 7, 16, 'Friday', 28, 1), ('3c80e2eb23d2c483119cbe297dd3d18ce3c1390ea0415f4ebc6f623989d68195', 'Screaming Trees', 'Nearly Lost You', 'Sweet Oblivion', '2010-07-16 07:00:25', 1, 2010, 7, 16, 'Friday', 28, 2), ('29e43f3eb36c9efc08d0f6db37275a0e4fee050b478bb2e13c5b4da84383107c', 'Earl Greyhound', 'Oye Vaya', 'Suspicious Package', '2010-07-16 07:05:18', 1, 2010, 7, 16, 'Friday', 28, 2), ('d28ea9a613abc9ad36f2a7141abbcc56d8ea36d13911037088427ad8694b695f', 'Dirty Projectors', 'Stillness Is The Move', 'Bitte Orca', '2010-07-16 07:08:39', 1, 2010, 7, 16, 'Friday', 28, 2), ('7abc6a916845f235b2bfa51043692a4321a6710314b1fb6ce39a750414bb8c98', 'The National', 'Bloodbuzz Ohio', 'High Violet', '2010-07-16 07:13:53', 1, 2010, 7, 16, 'Friday', 28, 2), ('5cb35a4092a556003b6636c12f4e154c0236c1d38adaa8ea74096955963c9e7d', 'Sondre Lerche', 'Two Way Monologue', 'Two Way Monologue', '2010-07-16 07:18:50', 1, 2010, 7, 16, 'Friday', 28, 2), ('d71bc22fda0395cb5c0c0706715c53701cec7ee379c155ce8c2e0a4518c0e0b3', 'Junip', 'Far Away', 'Rope and Summit EP', '2010-07-16 07:25:18', 1, 2010, 7, 16, 'Friday', 28, 2), ('0809c7ad27256c8e531ddee5775a16a9f1ad0fc95d23908a1c72a0e4f12444c9', 'Lee Dorsey', 'Working In A Coalmine', 'Great Soul Classics', '2010-07-16 07:27:58', 1, 2010, 7, 16, 'Friday', 28, 2), ('6d9b49847218837e26bd6975850c5ec1a05a670f0cfcccd045adea86a6ba3115', 'Janelle Monae', 'Tightrope feat. Big Boi', 'The ArchAndroid', '2010-07-16 07:30:40', 1, 2010, 7, 16, 'Friday', 28, 2), ('8d60723906902e2ed93b1cf882eda6efd2f0962c8cba4c863a1af28bb724184b', 'All the Saints', 'Regal Regalia', 'Fire on Corridor X', '2010-07-16 07:34:02', 1, 2010, 7, 16, 'Friday', 28, 2), ('28b90fbf2af420bf8be65bf07c3d74a6da9dd97b780f8aac20c6cc83e0f6c0ab', 'The Chemical Brothers', 'Another World', 'Further', '2010-07-16 07:38:16', 1, 2010, 7, 16, 'Friday', 28, 2), ('c5239076416eb50854627243e17f66efac5ab2bb2504ce92287bd4d0f911ac4c', 'Cake', 'Italian Leather Sofa', 'Fashion Nugget', '2010-07-16 07:43:55', 1, 2010, 7, 16, 'Friday', 28, 2), ('44621b827a494c4b027276591fb139e767eaef5e1eb51e5ecf5970a9af728009', 'Arctic Monkeys', 'Cornerstone', 'Humbug', '2010-07-16 07:49:45', 1, 2010, 7, 16, 'Friday', 28, 2), ('ae39013d80a09b8b640c522fa3428a604c793040e3474e5aea34990df9f12db1', 'LCD Soundsystem', 'Dance Yrself Clean', 'This Is Happening', '2010-07-16 07:52:49', 1, 2010, 7, 16, 'Friday', 28, 2), ('c27cb232c6348f989013e900c2232ea7927db883e4b561e64268f6580bc0b2e0', 'Flying Lotus', 'And The World Laughs With You feat. Thom Yorke', 'Cosmogramma', '2010-07-16 07:59:52', 1, 2010, 7, 16, 'Friday', 28, 2), ('81b517e7d377d304f473a5f532cb842bda2088b68ae2f4994c6d06fd5629cc94', 'Belly', 'Gepetto', 'Star', '2010-07-16 08:02:57', 1, 2010, 7, 16, 'Friday', 28, 3), ('2684a45950712ec3b983f4f161228871401f04b129ec55856ffbdd8f9df30d1a', 'Here We Go Magic', 'Collector', 'Pigeons', '2010-07-16 08:07:19', 1, 2010, 7, 16, 'Friday', 28, 3), ('22abaf917cb8dfa3acbe5a976b26663962e893909c4b2f927a89aea030edc5c0', 'The Apples in Stereo', 'Energy', 'New Magnetic Wonder', '2010-07-16 08:11:18', 1, 2010, 7, 16, 'Friday', 28, 3), ('d2dfe45ed54e95adda16054e52d6cea09f2472415603d6f8a511c006750e329b', 'The Hold Steady', 'The Weekenders', 'Heaven Is Whenever', '2010-07-16 08:15:43', 1, 2010, 7, 16, 'Friday', 28, 3), ('e50ec70b853a98318dab1e36f4139bc797ab8f3a80bd43ea46cdf863147ea75c', 'Metric', 'The Twist', 'Grow Up And Blow Away', '2010-07-16 08:19:23', 1, 2010, 7, 16, 'Friday', 28, 3), ('681c0fc20599e35f825bb509e0f978c68a63f7df01f337017dd58e185e71529b', 'Wolf Parade', 'Yulia', 'Expo 86', '2010-07-16 08:24:11', 1, 2010, 7, 16, 'Friday', 28, 3), ('4f0dd243ea2bd301ee13dcec2dc4efc75d359a0d456143b131bdf5d111e182c6', 'The Temper Trap', 'Sweet Disposition', 'Conditions', '2010-07-16 08:27:52', 1, 2010, 7, 16, 'Friday', 28, 3), ('ea213bbc6c92c47ab497a67e6925a48f61acf7c2a627fdca4f3eeaec9a0dcd20', 'Buffalo Springfield', 'Mr. Soul', 'Decade', '2010-07-16 08:31:52', 1, 2010, 7, 16, 'Friday', 28, 3), ('413d6d7ca8b9147cb1f2ca73cc1d19dc5530449d77e7d86629e390e25bbe4eea', 'Prince', 'Future Soul Song', '20Ten', '2010-07-16 08:34:31', 1, 2010, 7, 16, 'Friday', 28, 3), ('741582a995964f2749b49c9772d830a07b5f90c5591302ca64ed58940f29be14', 'The Love Language', 'Heart To Tell', 'Libraries', '2010-07-16 08:40:23', 1, 2010, 7, 16, 'Friday', 28, 3), ('4e938b53f1ca619228390d3bfc28ee8ba5c85a45cf0cab67b7f2565d75c208a0', 'Brandi Carlile', 'Dying Day', 'Give Up The Ghost', '2010-07-16 08:42:46', 1, 2010, 7, 16, 'Friday', 28, 3), ('609f2c715fe398ea995e99c0633b9b5a1c0a3d489e078c4920581ef20fe99f37', 'Dramarama', 'Haven\\'t Got A Clue', 'Best of Dramarama', '2010-07-16 08:46:56', 1, 2010, 7, 16, 'Friday', 28, 3)\": You have an error in your SQL syntax; check the manual that corresponds to your MySQL server version for the right syntax to use near '2010-07-16 06:03:05', 1, 2010, 7, 16, 'Friday', 28, 1), ('6ffc780b236f35c348ab3a' at line 1\n",
     "output_type": "error",
     "traceback": [
      "\u001b[0;31m---------------------------------------------------------------------------\u001b[0m",
      "\u001b[0;31mIOException\u001b[0m                               Traceback (most recent call last)",
      "Cell \u001b[0;32mIn[10], line 23\u001b[0m\n\u001b[1;32m      1\u001b[0m \u001b[38;5;66;03m# id, artist, title, album, played_at, service_id, year, month,day, day_of_week, week, hour\u001b[39;00m\n\u001b[1;32m      2\u001b[0m sql\u001b[38;5;241m=\u001b[39m\u001b[38;5;124m\"\"\"\u001b[39m\n\u001b[1;32m      3\u001b[0m \u001b[38;5;124mCREATE OR REPLACE TABLE mysql.songs AS \u001b[39m\n\u001b[1;32m      4\u001b[0m \u001b[38;5;124mSELECT \u001b[39m\n\u001b[0;32m   (...)\u001b[0m\n\u001b[1;32m     21\u001b[0m \u001b[38;5;124mLIMIT 1000000;\u001b[39m\n\u001b[1;32m     22\u001b[0m \u001b[38;5;124m\"\"\"\u001b[39m\n\u001b[0;32m---> 23\u001b[0m \u001b[43mcon\u001b[49m\u001b[38;5;241;43m.\u001b[39;49m\u001b[43msql\u001b[49m\u001b[43m(\u001b[49m\u001b[43msql\u001b[49m\u001b[43m)\u001b[49m\n",
      "\u001b[0;31mIOException\u001b[0m: IO Error: Failed to run query \"INSERT INTO `thecurrent`.`songs`  VALUES ('d62de870263fff5417d1518fdc3e198f5649b5ab9309cef3d633339ce5b9d010', 'Josh Ritter', 'The Curse', 'So Runs The World Away', '2010-07-16 05:46:35', 1, 2010, 7, 16, 'Friday', 28, 0), ('d850fdfb292644f9f685169982e5fa992d7efd6d8224e29c2e1dc651ca10c19f', 'Regina Spektor', 'Better', 'Begin to Hope', '2010-07-16 05:51:28', 1, 2010, 7, 16, 'Friday', 28, 0), ('6f0d46f3e07654dc0627bf0faeef8eb28523ab547aa0e87d40acd77589455cc0', 'Vampire Weekend', 'Giving Up The Gun', 'Contra', '2010-07-16 05:54:45', 1, 2010, 7, 16, 'Friday', 28, 0), ('69900e6aea21686d1007c6fc9e331d0dcf6d6659bdf5c7990cd54b86d7b504e8', 'The Police', 'Canary in a Coalmine', 'Zenyatta Mondatta', '2010-07-16 05:59:29', 1, 2010, 7, 16, 'Friday', 28, 0), ('3cb3af563997545de95a144beec9d5027738c26bc403a80631137cd808a5f972', 'M.I.A.', 'Born Free', '/\\/\\/\\Y/\\', '2010-07-16 06:03:05', 1, 2010, 7, 16, 'Friday', 28, 1), ('6ffc780b236f35c348ab3a9b2fdb7b131428cf5f7d45512ad4aaac90fa697860', 'XTC', 'No Thugs In Our House', 'English Settlement', '2010-07-16 06:07:27', 1, 2010, 7, 16, 'Friday', 28, 1), ('3f37a86aa20e97f00eef652c36805c9b8f945c7d22e80f6745aa2f98e68759a6', 'Sleigh Bells', 'Crown On The Ground', 'Treats', '2010-07-16 06:13:46', 1, 2010, 7, 16, 'Friday', 28, 1), ('9bb222530c93b1c9a6d5a05442bc5752acc76affa7c07ab0b256e8fba1501239', 'Amy Winehouse', 'He Can Only Hold Her', 'Back To Black', '2010-07-16 06:17:32', 1, 2010, 7, 16, 'Friday', 28, 1), ('1cb412c3a26bdd13813d271efa1b571a6181735228af32789d88eeb8513a77b3', 'Devo', 'Fresh', 'Fresh (single)', '2010-07-16 06:20:11', 1, 2010, 7, 16, 'Friday', 28, 1), ('527515f546a676158f38c7fc565d0b978d458285b209ea1ce67389ebe6573c32', 'Hot Chip', 'Ready For The Floor', '89.3 In-Studio Performance', '2010-07-16 06:23:15', 1, 2010, 7, 16, 'Friday', 28, 1), ('ecf119e31bbedacfee377878ee0f66fa2ae34bb252629f915039b271ecf2b4d3', 'Free Energy', 'All I Know', 'Free Energy', '2010-07-16 06:28:00', 1, 2010, 7, 16, 'Friday', 28, 1), ('fdb796d603dab65f764cc689c5047cf2737574c809867fc7de45437e6138bd1e', 'Love', '7 and 7 Is', 'Nuggets: Original Artyfacts From the First Psychedelic Era, Vol. 2', '2010-07-16 06:32:14', 1, 2010, 7, 16, 'Friday', 28, 1), ('b4bbdcae7b5c12ed582b015b8944eb95bb580227a2e14518580ff624f5063ce8', 'The Black Keys', 'Tighten Up', 'Brothers', '2010-07-16 06:34:31', 1, 2010, 7, 16, 'Friday', 28, 1), ('b786a5eaccb49cbf7572b55d4b873ceaedc7c6deee801c35b8cabf1499d02dfb', 'Kele', 'Everything You Wanted', 'The Boxer', '2010-07-16 06:39:00', 1, 2010, 7, 16, 'Friday', 28, 1), ('b930d39c87d19c4447fdb78ce82d512f2953fb92ccdb2a3bfbff7449702874f7', 'MGMT', 'Flash Delirium', 'Congratulations', '2010-07-16 06:42:31', 1, 2010, 7, 16, 'Friday', 28, 1), ('0b237ea22ef391bc3d5c31343551c66e98e4b9b61f9cded505eb896a5e1cf54c', 'Dessa', 'Dixon\\'s Girl', 'A Badly Broken Code', '2010-07-16 06:46:45', 1, 2010, 7, 16, 'Friday', 28, 1), ('d47e284e5239f5ad7e08bf283fd6ec7f28f93d293d305d6288bf4c54cd372938', 'The Mynabirds', 'Numbers Don\\'t Lie', 'What We Lose In The Fire we Gain In The Flood', '2010-07-16 06:50:17', 1, 2010, 7, 16, 'Friday', 28, 1), ('65ac5628052cdc3b07a834913b9f20cb6d8632b21a2463c368043b30346a07f5', 'Bonnie \\'Prince\\' Billy', 'Glory Goes', 'Lie Down in the Light', '2010-07-16 06:53:45', 1, 2010, 7, 16, 'Friday', 28, 1), ('18e355fef75d5ae7134406211095d010427868e783a4fbcac53df0527ddbf17b', 'Charlotte Gainsbourg', 'Time Of The Assassins', 'IRM', '2010-07-16 06:57:23', 1, 2010, 7, 16, 'Friday', 28, 1), ('3c80e2eb23d2c483119cbe297dd3d18ce3c1390ea0415f4ebc6f623989d68195', 'Screaming Trees', 'Nearly Lost You', 'Sweet Oblivion', '2010-07-16 07:00:25', 1, 2010, 7, 16, 'Friday', 28, 2), ('29e43f3eb36c9efc08d0f6db37275a0e4fee050b478bb2e13c5b4da84383107c', 'Earl Greyhound', 'Oye Vaya', 'Suspicious Package', '2010-07-16 07:05:18', 1, 2010, 7, 16, 'Friday', 28, 2), ('d28ea9a613abc9ad36f2a7141abbcc56d8ea36d13911037088427ad8694b695f', 'Dirty Projectors', 'Stillness Is The Move', 'Bitte Orca', '2010-07-16 07:08:39', 1, 2010, 7, 16, 'Friday', 28, 2), ('7abc6a916845f235b2bfa51043692a4321a6710314b1fb6ce39a750414bb8c98', 'The National', 'Bloodbuzz Ohio', 'High Violet', '2010-07-16 07:13:53', 1, 2010, 7, 16, 'Friday', 28, 2), ('5cb35a4092a556003b6636c12f4e154c0236c1d38adaa8ea74096955963c9e7d', 'Sondre Lerche', 'Two Way Monologue', 'Two Way Monologue', '2010-07-16 07:18:50', 1, 2010, 7, 16, 'Friday', 28, 2), ('d71bc22fda0395cb5c0c0706715c53701cec7ee379c155ce8c2e0a4518c0e0b3', 'Junip', 'Far Away', 'Rope and Summit EP', '2010-07-16 07:25:18', 1, 2010, 7, 16, 'Friday', 28, 2), ('0809c7ad27256c8e531ddee5775a16a9f1ad0fc95d23908a1c72a0e4f12444c9', 'Lee Dorsey', 'Working In A Coalmine', 'Great Soul Classics', '2010-07-16 07:27:58', 1, 2010, 7, 16, 'Friday', 28, 2), ('6d9b49847218837e26bd6975850c5ec1a05a670f0cfcccd045adea86a6ba3115', 'Janelle Monae', 'Tightrope feat. Big Boi', 'The ArchAndroid', '2010-07-16 07:30:40', 1, 2010, 7, 16, 'Friday', 28, 2), ('8d60723906902e2ed93b1cf882eda6efd2f0962c8cba4c863a1af28bb724184b', 'All the Saints', 'Regal Regalia', 'Fire on Corridor X', '2010-07-16 07:34:02', 1, 2010, 7, 16, 'Friday', 28, 2), ('28b90fbf2af420bf8be65bf07c3d74a6da9dd97b780f8aac20c6cc83e0f6c0ab', 'The Chemical Brothers', 'Another World', 'Further', '2010-07-16 07:38:16', 1, 2010, 7, 16, 'Friday', 28, 2), ('c5239076416eb50854627243e17f66efac5ab2bb2504ce92287bd4d0f911ac4c', 'Cake', 'Italian Leather Sofa', 'Fashion Nugget', '2010-07-16 07:43:55', 1, 2010, 7, 16, 'Friday', 28, 2), ('44621b827a494c4b027276591fb139e767eaef5e1eb51e5ecf5970a9af728009', 'Arctic Monkeys', 'Cornerstone', 'Humbug', '2010-07-16 07:49:45', 1, 2010, 7, 16, 'Friday', 28, 2), ('ae39013d80a09b8b640c522fa3428a604c793040e3474e5aea34990df9f12db1', 'LCD Soundsystem', 'Dance Yrself Clean', 'This Is Happening', '2010-07-16 07:52:49', 1, 2010, 7, 16, 'Friday', 28, 2), ('c27cb232c6348f989013e900c2232ea7927db883e4b561e64268f6580bc0b2e0', 'Flying Lotus', 'And The World Laughs With You feat. Thom Yorke', 'Cosmogramma', '2010-07-16 07:59:52', 1, 2010, 7, 16, 'Friday', 28, 2), ('81b517e7d377d304f473a5f532cb842bda2088b68ae2f4994c6d06fd5629cc94', 'Belly', 'Gepetto', 'Star', '2010-07-16 08:02:57', 1, 2010, 7, 16, 'Friday', 28, 3), ('2684a45950712ec3b983f4f161228871401f04b129ec55856ffbdd8f9df30d1a', 'Here We Go Magic', 'Collector', 'Pigeons', '2010-07-16 08:07:19', 1, 2010, 7, 16, 'Friday', 28, 3), ('22abaf917cb8dfa3acbe5a976b26663962e893909c4b2f927a89aea030edc5c0', 'The Apples in Stereo', 'Energy', 'New Magnetic Wonder', '2010-07-16 08:11:18', 1, 2010, 7, 16, 'Friday', 28, 3), ('d2dfe45ed54e95adda16054e52d6cea09f2472415603d6f8a511c006750e329b', 'The Hold Steady', 'The Weekenders', 'Heaven Is Whenever', '2010-07-16 08:15:43', 1, 2010, 7, 16, 'Friday', 28, 3), ('e50ec70b853a98318dab1e36f4139bc797ab8f3a80bd43ea46cdf863147ea75c', 'Metric', 'The Twist', 'Grow Up And Blow Away', '2010-07-16 08:19:23', 1, 2010, 7, 16, 'Friday', 28, 3), ('681c0fc20599e35f825bb509e0f978c68a63f7df01f337017dd58e185e71529b', 'Wolf Parade', 'Yulia', 'Expo 86', '2010-07-16 08:24:11', 1, 2010, 7, 16, 'Friday', 28, 3), ('4f0dd243ea2bd301ee13dcec2dc4efc75d359a0d456143b131bdf5d111e182c6', 'The Temper Trap', 'Sweet Disposition', 'Conditions', '2010-07-16 08:27:52', 1, 2010, 7, 16, 'Friday', 28, 3), ('ea213bbc6c92c47ab497a67e6925a48f61acf7c2a627fdca4f3eeaec9a0dcd20', 'Buffalo Springfield', 'Mr. Soul', 'Decade', '2010-07-16 08:31:52', 1, 2010, 7, 16, 'Friday', 28, 3), ('413d6d7ca8b9147cb1f2ca73cc1d19dc5530449d77e7d86629e390e25bbe4eea', 'Prince', 'Future Soul Song', '20Ten', '2010-07-16 08:34:31', 1, 2010, 7, 16, 'Friday', 28, 3), ('741582a995964f2749b49c9772d830a07b5f90c5591302ca64ed58940f29be14', 'The Love Language', 'Heart To Tell', 'Libraries', '2010-07-16 08:40:23', 1, 2010, 7, 16, 'Friday', 28, 3), ('4e938b53f1ca619228390d3bfc28ee8ba5c85a45cf0cab67b7f2565d75c208a0', 'Brandi Carlile', 'Dying Day', 'Give Up The Ghost', '2010-07-16 08:42:46', 1, 2010, 7, 16, 'Friday', 28, 3), ('609f2c715fe398ea995e99c0633b9b5a1c0a3d489e078c4920581ef20fe99f37', 'Dramarama', 'Haven\\'t Got A Clue', 'Best of Dramarama', '2010-07-16 08:46:56', 1, 2010, 7, 16, 'Friday', 28, 3)\": You have an error in your SQL syntax; check the manual that corresponds to your MySQL server version for the right syntax to use near '2010-07-16 06:03:05', 1, 2010, 7, 16, 'Friday', 28, 1), ('6ffc780b236f35c348ab3a' at line 1\n"
     ]
    }
   ],
   "source": [
    "\n",
    "# id, artist, title, album, played_at, service_id, year, month,day, day_of_week, week, hour\n",
    "sql=\"\"\"\n",
    "CREATE OR REPLACE TABLE postgres.songs AS \n",
    "SELECT \n",
    "    id, \n",
    "    artist, \n",
    "    title, \n",
    "    album, \n",
    "    CAST(played_at as DATETIME) as played_at, \n",
    "    CAST(service_id as INT) AS service_id, \n",
    "    CAST(year as INT) AS year, \n",
    "    CAST(month as INT) AS month, \n",
    "    CAST(day as INT) AS day, \n",
    "    day_of_week, \n",
    "     CAST(week as INT) AS week, \n",
    "    CAST(hour as INT) AS hour \n",
    "FROM sqlite.songs\n",
    "ORDER BY \n",
    "    service_id ASC,\n",
    "    played_at ASC;\n",
    "\"\"\"\n",
    "con.sql(sql)"
   ]
  },
  {
   "cell_type": "code",
   "execution_count": 23,
   "metadata": {},
   "outputs": [],
   "source": [
    "# id, artist, title, album, played_at, service_id, year, month,day, day_of_week, week, hour\n",
    "sql=\"\"\"\n",
    "DELETE FROM mysql.songs;\n",
    "           \n",
    "INSERT INTO mysql.songs \n",
    "SELECT\n",
    "    id, \n",
    "    REPLACE(artist, '\\\\', '\\\\\\\\') AS artist, \n",
    "    REPLACE(title, '\\\\', '\\\\\\\\') AS title, \n",
    "    REPLACE(album, '\\\\', '\\\\\\\\') AS album,\n",
    "    CAST(played_at as DATETIME) as played_at, \n",
    "    CAST(service_id as INT) AS service_id, \n",
    "    CAST(year as INT) AS year, \n",
    "    CAST(month as INT) AS month, \n",
    "    CAST(day as INT) AS day, \n",
    "    day_of_week, \n",
    "     CAST(week as INT) AS week, \n",
    "    CAST(hour as INT) AS hour \n",
    "FROM \n",
    "    sqlite.songs\n",
    "ORDER BY \n",
    "    service_id ASC,\n",
    "    played_at ASC;\n",
    "\n",
    "\"\"\"\n",
    "con.sql(sql)"
   ]
  },
  {
   "cell_type": "code",
   "execution_count": 15,
   "metadata": {},
   "outputs": [
    {
     "ename": "BinderException",
     "evalue": "Binder Error: Unsupported ALTER TABLE type - MySQL tables only support RENAME TABLE, RENAME COLUMN, ADD COLUMN and DROP COLUMN",
     "output_type": "error",
     "traceback": [
      "\u001b[0;31m---------------------------------------------------------------------------\u001b[0m",
      "\u001b[0;31mBinderException\u001b[0m                           Traceback (most recent call last)",
      "Cell \u001b[0;32mIn[15], line 2\u001b[0m\n\u001b[1;32m      1\u001b[0m sql\u001b[38;5;241m=\u001b[39m\u001b[38;5;124m\"\u001b[39m\u001b[38;5;124mALTER TABLE mysql.songs ALTER COLUMN id TYPE VARCHAR;\u001b[39m\u001b[38;5;124m\"\u001b[39m\n\u001b[0;32m----> 2\u001b[0m \u001b[43mcon\u001b[49m\u001b[38;5;241;43m.\u001b[39;49m\u001b[43msql\u001b[49m\u001b[43m(\u001b[49m\u001b[43msql\u001b[49m\u001b[43m)\u001b[49m\n",
      "\u001b[0;31mBinderException\u001b[0m: Binder Error: Unsupported ALTER TABLE type - MySQL tables only support RENAME TABLE, RENAME COLUMN, ADD COLUMN and DROP COLUMN"
     ]
    }
   ],
   "source": [
    "sql=\"ALTER TABLE mysql.songs ALTER COLUMN id TYPE VARCHAR;\"\n",
    "con.sql(sql)\n"
   ]
  },
  {
   "cell_type": "code",
   "execution_count": null,
   "metadata": {},
   "outputs": [],
   "source": [
    "CREATE INDEX idx_service ON songs \n",
    "(\n",
    "    service_id ASC,\n",
    "    year ASC\n",
    "\n",
    ");\n",
    "\n",
    "CREATE INDEX idx_service_artist_title ON songs \n",
    "(\n",
    "    service_id ASC,\n",
    "    artist ASC,\n",
    "    title ASC\n",
    "\n",
    ");"
   ]
  },
  {
   "cell_type": "code",
   "execution_count": 2,
   "metadata": {},
   "outputs": [],
   "source": [
    "sql=\"\"\"\n",
    "CREATE OR REPLACE TABLE postgres.songs_alltime_top AS \n",
    "SELECT artist, COUNT(*) as ct \n",
    "FROM postgres.songs\n",
    "WHERE service_id=1\n",
    "GROUP BY artist\n",
    "ORDER BY ct DESC\n",
    "LIMIT 5\n",
    "\"\"\"\n",
    "con.sql(sql)"
   ]
  },
  {
   "cell_type": "code",
   "execution_count": 6,
   "metadata": {},
   "outputs": [],
   "source": [
    "sql=\"\"\"\n",
    "CREATE OR REPLACE TABLE mysql.songs_min_played_at AS \n",
    "SELECT\n",
    "    service_id,\n",
    "    REPLACE(artist, '\\\\', '\\\\\\\\') AS artist, \n",
    "    REPLACE(title, '\\\\', '\\\\\\\\') AS title, \n",
    "    MIN(played_at) AS played_at\n",
    "FROM mysql.songs\n",
    "WHERE \n",
    "    trim(artist) != ''\n",
    "    AND trim(title) != ''\n",
    "GROUP BY\n",
    "    service_id,\n",
    "    artist,\n",
    "    title\n",
    "\"\"\"\n",
    "con.sql(sql)"
   ]
  }
 ],
 "metadata": {
  "kernelspec": {
   "display_name": "venv",
   "language": "python",
   "name": "python3"
  },
  "language_info": {
   "codemirror_mode": {
    "name": "ipython",
    "version": 3
   },
   "file_extension": ".py",
   "mimetype": "text/x-python",
   "name": "python",
   "nbconvert_exporter": "python",
   "pygments_lexer": "ipython3",
   "version": "3.11.7"
  }
 },
 "nbformat": 4,
 "nbformat_minor": 2
}
