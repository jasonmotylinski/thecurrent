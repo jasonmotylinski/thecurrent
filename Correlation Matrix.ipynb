{
 "cells": [
  {
   "cell_type": "code",
   "execution_count": 9,
   "metadata": {
    "collapsed": false
   },
   "outputs": [
    {
     "data": {
      "text/plain": [
       "<matplotlib.axes._subplots.AxesSubplot at 0x10ae1dcd0>"
      ]
     },
     "execution_count": 9,
     "metadata": {},
     "output_type": "execute_result"
    },
    {
     "data": {
      "image/png": "[encoded data removed]",
      "text/plain": [
       "<matplotlib.figure.Figure at 0x10ad70950>"
      ]
     },
     "metadata": {},
     "output_type": "display_data"
    }
   ],
   "source": [
    "import matplotlib.pyplot as plt\n",
    "import pandas as pd\n",
    "import seaborn as sns\n",
    "%matplotlib inline\n",
    "\n",
    "from data import load, get_training_data\n",
    "from datetime import datetime\n",
    "from pyspark.mllib.stat import Statistics\n",
    "from pyspark.mllib.linalg import Vectors\n",
    "from pyspark.ml.feature import StringIndexer\n",
    "from pyspark.ml.feature import VectorAssembler\n",
    "\n",
    "load(sqlContext, spark)\n",
    "\n",
    "df = get_training_data(spark, datetime(2017,3,1))\n",
    "\n",
    "artistInd = StringIndexer(inputCol=\"artist\", outputCol=\"artistIndex\").setHandleInvalid(\"skip\")\n",
    "titleInd = StringIndexer(inputCol=\"title\", outputCol=\"titleIndex\").setHandleInvalid(\"skip\")\n",
    "dayOfWeekInd = StringIndexer(inputCol=\"day_of_week\", outputCol=\"dayOfWeekIndex\").setHandleInvalid(\"skip\")\n",
    "assembler = VectorAssembler(inputCols=[\"artistIndex\", \"titleIndex\", \"weekly_play_count\", \"week\", \"month\", \"year\",\"currentrank\"], outputCol=\"features\")\n",
    "\n",
    "d = artistInd.fit(df).transform(df)\n",
    "d = titleInd.fit(d).transform(d)\n",
    "d = assembler.transform(d)\n",
    "\n",
    "r = d.select(\"features\").rdd.map(lambda data: Vectors.dense([str(c) for c in data[0]]))\n",
    "\n",
    "corrmat = Statistics.corr(r, method=\"pearson\")\n",
    "df = pd.DataFrame(corrmat)\n",
    "df.columns = [\"artistIndex\",\"titleIndex\", \"weekly_play_count\", \"week\", \"month\", \"year\", \"currentrank\"]\n",
    "\n",
    "f, ax = plt.subplots(figsize=(12, 9))\n",
    "sns.heatmap(df)\n"
   ]
  },
  {
   "cell_type": "code",
   "execution_count": null,
   "metadata": {
    "collapsed": true
   },
   "outputs": [],
   "source": []
  }
 ],
 "metadata": {
  "kernelspec": {
   "display_name": "Python 2",
   "language": "python",
   "name": "python2"
  },
  "language_info": {
   "codemirror_mode": {
    "name": "ipython",
    "version": 2
   },
   "file_extension": ".py",
   "mimetype": "text/x-python",
   "name": "python",
   "nbconvert_exporter": "python",
   "pygments_lexer": "ipython2",
   "version": "2.7.10"
  }
 },
 "nbformat": 4,
 "nbformat_minor": 1
}
