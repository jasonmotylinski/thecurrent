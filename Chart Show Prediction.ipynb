{
 "cells": [
  {
   "cell_type": "code",
   "execution_count": 9,
   "metadata": {
    "collapsed": false
   },
   "outputs": [],
   "source": [
    "df = sqlContext.read.format('com.databricks.spark.csv') \\\n",
    "        .option(\"header\", True) \\\n",
    "        .option(\"inferSchema\", True) \\\n",
    "        .load('output/csv/chartshow/*/*.csv') \\\n",
    "        .selectExpr(\"rank\", \"date\", \"LOWER(LTRIM(RTRIM(artist))) AS artist\", \"LOWER(LTRIM(RTRIM(title))) AS title\") \\\n",
    "        .createOrReplaceTempView(\"chartshow\")\n",
    "        \n",
    "df = sqlContext.read.format('com.databricks.spark.csv') \\\n",
    "        .option(\"header\", True) \\\n",
    "        .option(\"inferSchema\", True) \\\n",
    "        .load('output/csv/*.csv') \\\n",
    "        .selectExpr(\"id\",\"datetime\",\"LOWER(LTRIM(RTRIM(artist))) AS artist\",\"LOWER(LTRIM(RTRIM(title))) AS title\",\"year\",\"month\",\"day\",\"day_of_week\",\"week\",\"hour\") \\\n",
    "        .createOrReplaceTempView(\"playlist\")\n",
    "        \n",
    "spark.sql(\"\"\"\n",
    "SELECT\n",
    "    YEAR(date) AS year,\n",
    "    WEEKOFYEAR(date) AS weekofyear\n",
    "FROM chartshow\n",
    "GROUP BY YEAR(date), WEEKOFYEAR(date)\n",
    "ORDER BY\n",
    "    year ASC, weekofyear ASC\n",
    "\"\"\").createOrReplaceTempView(\"weeks\")"
   ]
  },
  {
   "cell_type": "code",
   "execution_count": 1,
   "metadata": {
    "collapsed": false
   },
   "outputs": [
    {
     "name": "stderr",
     "output_type": "stream",
     "text": [
      "ERROR: An unexpected error occurred while tokenizing input\n",
      "The following traceback may be corrupted or invalid\n",
      "The error message is: ('EOF in multi-line string', (1, 0))\n",
      "\n"
     ]
    },
    {
     "ename": "AnalysisException",
     "evalue": "u'Table or view not found: playlist; line 4 pos 5'",
     "output_type": "error",
     "traceback": [
      "\u001b[0;31m---------------------------------------------------------------------------\u001b[0m",
      "\u001b[0;31mAnalysisException\u001b[0m                         Traceback (most recent call last)",
      "\u001b[0;32m<ipython-input-1-ca7b51d63847>\u001b[0m in \u001b[0;36m<module>\u001b[0;34m()\u001b[0m\n\u001b[1;32m      8\u001b[0m \u001b[0mORDER\u001b[0m \u001b[0mBY\u001b[0m\u001b[0;34m\u001b[0m\u001b[0m\n\u001b[1;32m      9\u001b[0m     \u001b[0mdatetime\u001b[0m \u001b[0mDESC\u001b[0m\u001b[0;34m\u001b[0m\u001b[0m\n\u001b[0;32m---> 10\u001b[0;31m \"\"\").show()\n\u001b[0m",
      "\u001b[0;32m/opt/spark-2.1.0-bin-hadoop2.7/python/pyspark/sql/session.pyc\u001b[0m in \u001b[0;36msql\u001b[0;34m(self, sqlQuery)\u001b[0m\n\u001b[1;32m    539\u001b[0m         \u001b[0;34m[\u001b[0m\u001b[0mRow\u001b[0m\u001b[0;34m(\u001b[0m\u001b[0mf1\u001b[0m\u001b[0;34m=\u001b[0m\u001b[0;36m1\u001b[0m\u001b[0;34m,\u001b[0m \u001b[0mf2\u001b[0m\u001b[0;34m=\u001b[0m\u001b[0;34mu'row1'\u001b[0m\u001b[0;34m)\u001b[0m\u001b[0;34m,\u001b[0m \u001b[0mRow\u001b[0m\u001b[0;34m(\u001b[0m\u001b[0mf1\u001b[0m\u001b[0;34m=\u001b[0m\u001b[0;36m2\u001b[0m\u001b[0;34m,\u001b[0m \u001b[0mf2\u001b[0m\u001b[0;34m=\u001b[0m\u001b[0;34mu'row2'\u001b[0m\u001b[0;34m)\u001b[0m\u001b[0;34m,\u001b[0m \u001b[0mRow\u001b[0m\u001b[0;34m(\u001b[0m\u001b[0mf1\u001b[0m\u001b[0;34m=\u001b[0m\u001b[0;36m3\u001b[0m\u001b[0;34m,\u001b[0m \u001b[0mf2\u001b[0m\u001b[0;34m=\u001b[0m\u001b[0;34mu'row3'\u001b[0m\u001b[0;34m)\u001b[0m\u001b[0;34m]\u001b[0m\u001b[0;34m\u001b[0m\u001b[0m\n\u001b[1;32m    540\u001b[0m         \"\"\"\n\u001b[0;32m--> 541\u001b[0;31m         \u001b[0;32mreturn\u001b[0m \u001b[0mDataFrame\u001b[0m\u001b[0;34m(\u001b[0m\u001b[0mself\u001b[0m\u001b[0;34m.\u001b[0m\u001b[0m_jsparkSession\u001b[0m\u001b[0;34m.\u001b[0m\u001b[0msql\u001b[0m\u001b[0;34m(\u001b[0m\u001b[0msqlQuery\u001b[0m\u001b[0;34m)\u001b[0m\u001b[0;34m,\u001b[0m \u001b[0mself\u001b[0m\u001b[0;34m.\u001b[0m\u001b[0m_wrapped\u001b[0m\u001b[0;34m)\u001b[0m\u001b[0;34m\u001b[0m\u001b[0m\n\u001b[0m\u001b[1;32m    542\u001b[0m \u001b[0;34m\u001b[0m\u001b[0m\n\u001b[1;32m    543\u001b[0m     \u001b[0;34m@\u001b[0m\u001b[0msince\u001b[0m\u001b[0;34m(\u001b[0m\u001b[0;36m2.0\u001b[0m\u001b[0;34m)\u001b[0m\u001b[0;34m\u001b[0m\u001b[0m\n",
      "\u001b[0;32m/opt/spark-2.1.0-bin-hadoop2.7/python/lib/py4j-0.10.4-src.zip/py4j/java_gateway.py\u001b[0m in \u001b[0;36m__call__\u001b[0;34m(self, *args)\u001b[0m\n\u001b[1;32m   1131\u001b[0m         \u001b[0manswer\u001b[0m \u001b[0;34m=\u001b[0m \u001b[0mself\u001b[0m\u001b[0;34m.\u001b[0m\u001b[0mgateway_client\u001b[0m\u001b[0;34m.\u001b[0m\u001b[0msend_command\u001b[0m\u001b[0;34m(\u001b[0m\u001b[0mcommand\u001b[0m\u001b[0;34m)\u001b[0m\u001b[0;34m\u001b[0m\u001b[0m\n\u001b[1;32m   1132\u001b[0m         return_value = get_return_value(\n\u001b[0;32m-> 1133\u001b[0;31m             answer, self.gateway_client, self.target_id, self.name)\n\u001b[0m\u001b[1;32m   1134\u001b[0m \u001b[0;34m\u001b[0m\u001b[0m\n\u001b[1;32m   1135\u001b[0m         \u001b[0;32mfor\u001b[0m \u001b[0mtemp_arg\u001b[0m \u001b[0;32min\u001b[0m \u001b[0mtemp_args\u001b[0m\u001b[0;34m:\u001b[0m\u001b[0;34m\u001b[0m\u001b[0m\n",
      "\u001b[0;32m/opt/spark-2.1.0-bin-hadoop2.7/python/pyspark/sql/utils.pyc\u001b[0m in \u001b[0;36mdeco\u001b[0;34m(*a, **kw)\u001b[0m\n\u001b[1;32m     67\u001b[0m                                              e.java_exception.getStackTrace()))\n\u001b[1;32m     68\u001b[0m             \u001b[0;32mif\u001b[0m \u001b[0ms\u001b[0m\u001b[0;34m.\u001b[0m\u001b[0mstartswith\u001b[0m\u001b[0;34m(\u001b[0m\u001b[0;34m'org.apache.spark.sql.AnalysisException: '\u001b[0m\u001b[0;34m)\u001b[0m\u001b[0;34m:\u001b[0m\u001b[0;34m\u001b[0m\u001b[0m\n\u001b[0;32m---> 69\u001b[0;31m                 \u001b[0;32mraise\u001b[0m \u001b[0mAnalysisException\u001b[0m\u001b[0;34m(\u001b[0m\u001b[0ms\u001b[0m\u001b[0;34m.\u001b[0m\u001b[0msplit\u001b[0m\u001b[0;34m(\u001b[0m\u001b[0;34m': '\u001b[0m\u001b[0;34m,\u001b[0m \u001b[0;36m1\u001b[0m\u001b[0;34m)\u001b[0m\u001b[0;34m[\u001b[0m\u001b[0;36m1\u001b[0m\u001b[0;34m]\u001b[0m\u001b[0;34m,\u001b[0m \u001b[0mstackTrace\u001b[0m\u001b[0;34m)\u001b[0m\u001b[0;34m\u001b[0m\u001b[0m\n\u001b[0m\u001b[1;32m     70\u001b[0m             \u001b[0;32mif\u001b[0m \u001b[0ms\u001b[0m\u001b[0;34m.\u001b[0m\u001b[0mstartswith\u001b[0m\u001b[0;34m(\u001b[0m\u001b[0;34m'org.apache.spark.sql.catalyst.analysis'\u001b[0m\u001b[0;34m)\u001b[0m\u001b[0;34m:\u001b[0m\u001b[0;34m\u001b[0m\u001b[0m\n\u001b[1;32m     71\u001b[0m                 \u001b[0;32mraise\u001b[0m \u001b[0mAnalysisException\u001b[0m\u001b[0;34m(\u001b[0m\u001b[0ms\u001b[0m\u001b[0;34m.\u001b[0m\u001b[0msplit\u001b[0m\u001b[0;34m(\u001b[0m\u001b[0;34m': '\u001b[0m\u001b[0;34m,\u001b[0m \u001b[0;36m1\u001b[0m\u001b[0;34m)\u001b[0m\u001b[0;34m[\u001b[0m\u001b[0;36m1\u001b[0m\u001b[0;34m]\u001b[0m\u001b[0;34m,\u001b[0m \u001b[0mstackTrace\u001b[0m\u001b[0;34m)\u001b[0m\u001b[0;34m\u001b[0m\u001b[0m\n",
      "\u001b[0;31mAnalysisException\u001b[0m: u'Table or view not found: playlist; line 4 pos 5'"
     ]
    }
   ],
   "source": [
    "spark.sql(\"\"\"\n",
    "SELECT\n",
    "   *\n",
    "FROM playlist\n",
    "WHERE \n",
    "    datetime >='2017-03-01 00:00:00'\n",
    "    AND artist = 'dead man winter'\n",
    "ORDER BY\n",
    "    datetime DESC\n",
    "\"\"\").show()"
   ]
  },
  {
   "cell_type": "code",
   "execution_count": 14,
   "metadata": {
    "collapsed": false
   },
   "outputs": [
    {
     "name": "stdout",
     "output_type": "stream",
     "text": [
      "+----+----------+--------------------+--------------------+--------------------+-----------+----+\n",
      "|year|weekofyear|                date|              artist|               title|play_counts|rank|\n",
      "+----+----------+--------------------+--------------------+--------------------+-----------+----+\n",
      "|2016|        28|2016-07-13 00:00:...|               lizzo|        good as hell|         15|   1|\n",
      "|2016|        28|2016-07-13 00:00:...|  the avett brothers|        ain't no man|          6|   2|\n",
      "|2016|        28|2016-07-13 00:00:...|     case/lang/veirs|    best kept secret|         14|   3|\n",
      "|2016|        28|2016-07-13 00:00:...|                beck|                 wow|         16|   4|\n",
      "|2016|        28|2016-07-13 00:00:...|           radiohead|      burn the witch|         14|   5|\n",
      "|2016|        28|2016-07-13 00:00:...|               adele|send my love (to ...|         10|   6|\n",
      "|2016|        28|2016-07-13 00:00:...|    courtney barnett|       debbie downer|          9|   7|\n",
      "|2016|        28|2016-07-13 00:00:...|      the avalanches|     frankie sinatra|         16|   8|\n",
      "|2016|        28|2016-07-13 00:00:...|   chance the rapper|all we got feat. ...|          8|   9|\n",
      "|2016|        28|2016-07-13 00:00:...|               borns|      american money|         11|  10|\n",
      "|2016|        28|2016-07-13 00:00:...|              weezer|      endless bummer|          7|  11|\n",
      "|2016|        28|2016-07-13 00:00:...|       the lumineers|           cleopatra|         15|  12|\n",
      "|2016|        28|2016-07-13 00:00:...|         the strokes|            oblivius|         11|  13|\n",
      "|2016|        28|2016-07-13 00:00:...|                 m83|                 go!|         16|  14|\n",
      "|2016|        28|2016-07-13 00:00:...|              polica|             wedding|          3|  15|\n",
      "|2016|        28|2016-07-13 00:00:...|  the tragically hip|in a world posses...|          8|  16|\n",
      "|2016|        28|2016-07-13 00:00:...|           elle king|          good girls|         12|  17|\n",
      "|2016|        28|2016-07-13 00:00:...|red hot chili pep...|    dark necessities|         11|  19|\n",
      "|2016|        28|2016-07-13 00:00:...|    michael kiwanuka|      one more night|          7|  20|\n",
      "+----+----------+--------------------+--------------------+--------------------+-----------+----+\n",
      "\n"
     ]
    }
   ],
   "source": [
    "weekofyear = 28\n",
    "year = 2016\n",
    "spark.sql(\"\"\"\n",
    "SELECT\n",
    "    pl.year,\n",
    "    pl.weekofyear,\n",
    "    p.date,\n",
    "    pl.artist,\n",
    "    pl.title,\n",
    "    pl.play_counts,\n",
    "    p.rank\n",
    "FROM \n",
    "(\n",
    "    SELECT \n",
    "        YEAR(datetime) AS year, \n",
    "        WEEKOFYEAR(datetime) AS weekofyear, \n",
    "        artist,\n",
    "        title,\n",
    "        COUNT(*) AS play_counts\n",
    "    FROM playlist\n",
    "    GROUP BY \n",
    "        artist, title, YEAR(datetime), WEEKOFYEAR(datetime) \n",
    ") AS pl\n",
    "LEFT OUTER JOIN (\n",
    "SELECT \n",
    "    YEAR(date) AS year, \n",
    "    WEEKOFYEAR(date) AS weekofyear, \n",
    "    date,\n",
    "    rank, \n",
    "    artist,\n",
    "    title\n",
    "FROM \n",
    "    chartshow\n",
    "GROUP BY \n",
    "    artist,\n",
    "    title,\n",
    "    YEAR(date), \n",
    "    WEEKOFYEAR(date), \n",
    "    date,\n",
    "    rank\n",
    ") AS p ON p.year = pl.year AND p.weekofyear = pl.weekofyear AND p.artist = pl.artist AND p.title = pl.title\n",
    "--INNER JOIN weeks w ON pl.year = w.year AND pl.weekofyear = w.weekofyear\n",
    "WHERE pl.weekofyear={weekofyear} AND pl.year = {year}\n",
    "AND rank IS NOT NULL\n",
    "ORDER BY \n",
    "    year, weekofyear, rank ASC, play_counts DESC\n",
    "\"\"\".format(weekofyear=weekofyear, year=year)).show(50)"
   ]
  },
  {
   "cell_type": "code",
   "execution_count": 93,
   "metadata": {
    "collapsed": false
   },
   "outputs": [],
   "source": [
    "df = spark.sql(\n",
    "\"\"\"\n",
    "SELECT \n",
    "    p.*,\n",
    "    CASE WHEN next.rank IS NULL THEN 0 ELSE next.rank END AS nextrank,\n",
    "    CASE WHEN current.rank IS NULL THEN 0 ELSE current.rank END AS currentrank,\n",
    "    CASE WHEN next.rank IS NOT NULL THEN 1 ELSE 0 END AS label\n",
    "FROM playlist p\n",
    "LEFT OUTER JOIN \n",
    "(\n",
    "    SELECT \n",
    "        artist,\n",
    "        title,\n",
    "        rank\n",
    "    FROM\n",
    "        chartshow\n",
    "    WHERE \n",
    "        YEAR(date) = 2016\n",
    "        AND WEEKOFYEAR(date) = 28\n",
    ")\n",
    "next ON p.artist = next.artist AND p.title = next.title\n",
    "LEFT OUTER JOIN \n",
    "(\n",
    "    SELECT \n",
    "        artist,\n",
    "        title,\n",
    "        rank\n",
    "    FROM\n",
    "        chartshow\n",
    "    WHERE \n",
    "        YEAR(date) = 2016\n",
    "        AND WEEKOFYEAR(date) = 27\n",
    ")\n",
    "current ON p.artist = current.artist AND p.title = current.title\n",
    "WHERE datetime >= '{start}' AND datetime <= '{end}'\n",
    "\"\"\".format(start=\"2016-07-06 00:00:00\", end=\"2016-07-13 18:00:00\"))\n",
    "df = df.dropna()"
   ]
  },
  {
   "cell_type": "code",
   "execution_count": 94,
   "metadata": {
    "collapsed": true
   },
   "outputs": [],
   "source": [
    "splits = df.randomSplit([0.8, 0.2])\n",
    "train = splits[0].cache()\n",
    "test = splits[1].cache()"
   ]
  },
  {
   "cell_type": "code",
   "execution_count": 99,
   "metadata": {
    "collapsed": true
   },
   "outputs": [],
   "source": [
    "from pyspark.ml.feature import StringIndexer\n",
    "from pyspark.ml.feature import VectorAssembler\n",
    "\n",
    "\n",
    "artistInd = StringIndexer(inputCol=\"artist\", outputCol=\"artistIndex\").setHandleInvalid(\"skip\")\n",
    "titleInd = StringIndexer(inputCol=\"title\", outputCol=\"titleIndex\").setHandleInvalid(\"skip\")\n",
    "dayOfWeekInd = StringIndexer(inputCol=\"day_of_week\", outputCol=\"dayOfWeekIndex\").setHandleInvalid(\"skip\")\n",
    "assembler = VectorAssembler(inputCols=[\"artistIndex\", \"dayOfWeekIndex\", \"titleIndex\", \"hour\", \"day\", \"month\", \"year\",\"currentrank\"], outputCol=\"features\")"
   ]
  },
  {
   "cell_type": "code",
   "execution_count": 106,
   "metadata": {
    "collapsed": false
   },
   "outputs": [],
   "source": [
    "from pyspark.ml.classification import LogisticRegression\n",
    "from pyspark.ml import Pipeline\n",
    "\n",
    "lr = LogisticRegression(maxIter=10, threshold=0.1)\n",
    "pipeline = Pipeline().setStages([artistInd, titleInd, dayOfWeekInd, assembler, lr])\n",
    "\n",
    "model = pipeline.fit(train)"
   ]
  },
  {
   "cell_type": "code",
   "execution_count": 107,
   "metadata": {
    "collapsed": false
   },
   "outputs": [
    {
     "name": "stdout",
     "output_type": "stream",
     "text": [
      "AUC: 0.796034708909\n",
      "AUP: 0.682446091644\n"
     ]
    }
   ],
   "source": [
    "from pyspark.mllib.evaluation import BinaryClassificationMetrics\n",
    "\n",
    "results = model.transform(test)\n",
    "predictionsAndLabels = results.select(\"prediction\", \"label\") \\\n",
    "                              .rdd.map(lambda r: (float(r[\"prediction\"]), float(r[\"label\"])))\n",
    "metrics = BinaryClassificationMetrics(predictionsAndLabels)\n",
    "print \"AUC: {0}\".format(metrics.areaUnderROC)\n",
    "print \"AUP: {0}\".format(metrics.areaUnderPR)\n"
   ]
  },
  {
   "cell_type": "code",
   "execution_count": 103,
   "metadata": {
    "collapsed": false
   },
   "outputs": [
    {
     "data": {
      "text/plain": [
       "[Row(id=u'026e8854578b2a072003f636851fae00', datetime=datetime.datetime(2016, 7, 12, 10, 50), artist=u'margaret glaspy', title=u'you and i', year=2016, month=7, day=12, day_of_week=u'Tuesday', week=28, hour=10, nextrank=0, currentrank=12, label=0, artistIndex=11.0, titleIndex=28.0, dayOfWeekIndex=5.0, features=DenseVector([11.0, 5.0, 28.0, 10.0, 12.0, 7.0, 2016.0, 12.0]), rawPrediction=DenseVector([-1.9558, 1.9558]), probability=DenseVector([0.1239, 0.8761]), prediction=1.0),\n",
       " Row(id=u'0508b888804c11de0f5ec627c3394bac', datetime=datetime.datetime(2016, 7, 7, 3, 34), artist=u'radiohead', title=u'burn the witch', year=2016, month=7, day=7, day_of_week=u'Thursday', week=27, hour=3, nextrank=5, currentrank=4, label=1, artistIndex=7.0, titleIndex=3.0, dayOfWeekIndex=1.0, features=DenseVector([7.0, 1.0, 3.0, 3.0, 7.0, 7.0, 2016.0, 4.0]), rawPrediction=DenseVector([0.5721, -0.5721]), probability=DenseVector([0.6392, 0.3608]), prediction=1.0),\n",
       " Row(id=u'06688c3ad6f857780b25cdb366aef526', datetime=datetime.datetime(2016, 7, 12, 15, 10), artist=u'haley bonar', title=u'kismet kill', year=2016, month=7, day=12, day_of_week=u'Tuesday', week=28, hour=15, nextrank=0, currentrank=0, label=0, artistIndex=6.0, titleIndex=7.0, dayOfWeekIndex=5.0, features=DenseVector([6.0, 5.0, 7.0, 15.0, 12.0, 7.0, 2016.0, 0.0]), rawPrediction=DenseVector([1.3694, -1.3694]), probability=DenseVector([0.7973, 0.2027]), prediction=1.0),\n",
       " Row(id=u'069d6219148ea56724cff2b1612cac80', datetime=datetime.datetime(2016, 7, 12, 20, 30), artist=u'the lumineers', title=u'cleopatra', year=2016, month=7, day=12, day_of_week=u'Tuesday', week=28, hour=20, nextrank=12, currentrank=0, label=1, artistIndex=39.0, titleIndex=29.0, dayOfWeekIndex=5.0, features=DenseVector([39.0, 5.0, 29.0, 20.0, 12.0, 7.0, 2016.0, 0.0]), rawPrediction=DenseVector([2.1565, -2.1565]), probability=DenseVector([0.8963, 0.1037]), prediction=1.0),\n",
       " Row(id=u'07d49341681000dd06bb7bd963fc13ad', datetime=datetime.datetime(2016, 7, 7, 21, 35), artist=u'the tallest man on earth', title=u'time of the blue', year=2016, month=7, day=7, day_of_week=u'Thursday', week=27, hour=21, nextrank=0, currentrank=0, label=0, artistIndex=23.0, titleIndex=12.0, dayOfWeekIndex=1.0, features=DenseVector([23.0, 1.0, 12.0, 21.0, 7.0, 7.0, 2016.0, 0.0]), rawPrediction=DenseVector([1.9231, -1.9231]), probability=DenseVector([0.8725, 0.1275]), prediction=1.0),\n",
       " Row(id=u'0945bc0b28f4e844c06513521f75aa39', datetime=datetime.datetime(2016, 7, 13, 0, 50), artist=u'the avalanches', title=u'frankie sinatra', year=2016, month=7, day=13, day_of_week=u'Wednesday', week=28, hour=0, nextrank=8, currentrank=17, label=1, artistIndex=49.0, titleIndex=37.0, dayOfWeekIndex=0.0, features=DenseVector([49.0, 0.0, 37.0, 0.0, 13.0, 7.0, 2016.0, 17.0]), rawPrediction=DenseVector([-2.5399, 2.5399]), probability=DenseVector([0.0731, 0.9269]), prediction=1.0),\n",
       " Row(id=u'12e86e5b2ab8a7ea44fea5a3902e5b51', datetime=datetime.datetime(2016, 7, 12, 17, 45), artist=u'the head and the heart', title=u'all we ever knew', year=2016, month=7, day=12, day_of_week=u'Tuesday', week=28, hour=17, nextrank=0, currentrank=0, label=0, artistIndex=29.0, titleIndex=17.0, dayOfWeekIndex=5.0, features=DenseVector([29.0, 5.0, 17.0, 17.0, 12.0, 7.0, 2016.0, 0.0]), rawPrediction=DenseVector([1.8889, -1.8889]), probability=DenseVector([0.8686, 0.1314]), prediction=1.0),\n",
       " Row(id=u'12fd57a42cbecbb7b0893666297b13bb', datetime=datetime.datetime(2016, 7, 10, 15, 16), artist=u'the claypool lennon delirium', title=u'cricket and the genie (movement i, the delirium)', year=2016, month=7, day=10, day_of_week=u'Sunday', week=28, hour=15, nextrank=0, currentrank=18, label=0, artistIndex=58.0, titleIndex=46.0, dayOfWeekIndex=6.0, features=DenseVector([58.0, 6.0, 46.0, 15.0, 10.0, 7.0, 2016.0, 18.0]), rawPrediction=DenseVector([-2.6914, 2.6914]), probability=DenseVector([0.0635, 0.9365]), prediction=1.0),\n",
       " Row(id=u'13cfaa28785ae1f2d8e819bf1b75dea4', datetime=datetime.datetime(2016, 7, 9, 4, 45), artist=u'm. ward', title=u'girl from conejo valley', year=2016, month=7, day=9, day_of_week=u'Saturday', week=27, hour=4, nextrank=0, currentrank=0, label=0, artistIndex=19.0, titleIndex=8.0, dayOfWeekIndex=3.0, features=DenseVector([19.0, 3.0, 8.0, 4.0, 9.0, 7.0, 2016.0, 0.0]), rawPrediction=DenseVector([1.9716, -1.9716]), probability=DenseVector([0.8778, 0.1222]), prediction=1.0),\n",
       " Row(id=u'1598d969ee5d4e64fe6f256f64630ed7', datetime=datetime.datetime(2016, 7, 11, 21, 26), artist=u'the avalanches', title=u'frankie sinatra', year=2016, month=7, day=11, day_of_week=u'Monday', week=28, hour=21, nextrank=8, currentrank=17, label=1, artistIndex=49.0, titleIndex=37.0, dayOfWeekIndex=4.0, features=DenseVector([49.0, 4.0, 37.0, 21.0, 11.0, 7.0, 2016.0, 17.0]), rawPrediction=DenseVector([-2.7902, 2.7902]), probability=DenseVector([0.0579, 0.9421]), prediction=1.0),\n",
       " Row(id=u'17eddc0f2b40606078c6ef3f8205356b', datetime=datetime.datetime(2016, 7, 8, 1, 50), artist=u'hozier', title=u'better love', year=2016, month=7, day=8, day_of_week=u'Friday', week=27, hour=1, nextrank=0, currentrank=0, label=0, artistIndex=17.0, titleIndex=15.0, dayOfWeekIndex=2.0, features=DenseVector([17.0, 2.0, 15.0, 1.0, 8.0, 7.0, 2016.0, 0.0]), rawPrediction=DenseVector([2.1044, -2.1044]), probability=DenseVector([0.8913, 0.1087]), prediction=1.0),\n",
       " Row(id=u'2222b06160243ebb5b8d718d06b9916e', datetime=datetime.datetime(2016, 7, 12, 8, 38), artist=u'the avett brothers', title=u\"ain't no man\", year=2016, month=7, day=12, day_of_week=u'Tuesday', week=28, hour=8, nextrank=2, currentrank=5, label=1, artistIndex=0.0, titleIndex=54.0, dayOfWeekIndex=5.0, features=DenseVector([0.0, 5.0, 54.0, 8.0, 12.0, 7.0, 2016.0, 5.0]), rawPrediction=DenseVector([0.2856, -0.2856]), probability=DenseVector([0.5709, 0.4291]), prediction=1.0),\n",
       " Row(id=u'2ba1db5dfb65de95e4502e0da599fbfb', datetime=datetime.datetime(2016, 7, 6, 15, 21), artist=u'polica', title=u'wedding', year=2016, month=7, day=6, day_of_week=u'Wednesday', week=27, hour=15, nextrank=15, currentrank=20, label=1, artistIndex=20.0, titleIndex=39.0, dayOfWeekIndex=0.0, features=DenseVector([20.0, 0.0, 39.0, 15.0, 6.0, 7.0, 2016.0, 20.0]), rawPrediction=DenseVector([-3.9051, 3.9051]), probability=DenseVector([0.0197, 0.9803]), prediction=1.0),\n",
       " Row(id=u'2d3f6a496efda975c3b729a2e5141c15', datetime=datetime.datetime(2016, 7, 9, 5, 41), artist=u'glass animals', title=u'life itself', year=2016, month=7, day=9, day_of_week=u'Saturday', week=27, hour=5, nextrank=0, currentrank=0, label=0, artistIndex=18.0, titleIndex=9.0, dayOfWeekIndex=3.0, features=DenseVector([18.0, 3.0, 9.0, 5.0, 9.0, 7.0, 2016.0, 0.0]), rawPrediction=DenseVector([1.9457, -1.9457]), probability=DenseVector([0.875, 0.125]), prediction=1.0),\n",
       " Row(id=u'31c66f2348e3b4329a5b45d1bc6e699b', datetime=datetime.datetime(2016, 7, 6, 2, 33), artist=u'hozier', title=u'better love', year=2016, month=7, day=6, day_of_week=u'Wednesday', week=27, hour=2, nextrank=0, currentrank=0, label=0, artistIndex=17.0, titleIndex=15.0, dayOfWeekIndex=0.0, features=DenseVector([17.0, 0.0, 15.0, 2.0, 6.0, 7.0, 2016.0, 0.0]), rawPrediction=DenseVector([2.1962, -2.1962]), probability=DenseVector([0.8999, 0.1001]), prediction=1.0),\n",
       " Row(id=u'33e62c020ec0c31765391bca54eaa5ea', datetime=datetime.datetime(2016, 7, 11, 15, 7), artist=u'the avett brothers', title=u\"ain't no man\", year=2016, month=7, day=11, day_of_week=u'Monday', week=28, hour=15, nextrank=2, currentrank=5, label=1, artistIndex=0.0, titleIndex=54.0, dayOfWeekIndex=4.0, features=DenseVector([0.0, 4.0, 54.0, 15.0, 11.0, 7.0, 2016.0, 5.0]), rawPrediction=DenseVector([0.2264, -0.2264]), probability=DenseVector([0.5564, 0.4436]), prediction=1.0),\n",
       " Row(id=u'435111bc2308208e5884a4516874d905', datetime=datetime.datetime(2016, 7, 12, 4, 12), artist=u'cage the elephant', title=u'too late to say goodbye', year=2016, month=7, day=12, day_of_week=u'Tuesday', week=28, hour=4, nextrank=0, currentrank=0, label=0, artistIndex=24.0, titleIndex=21.0, dayOfWeekIndex=5.0, features=DenseVector([24.0, 5.0, 21.0, 4.0, 12.0, 7.0, 2016.0, 0.0]), rawPrediction=DenseVector([2.0406, -2.0406]), probability=DenseVector([0.885, 0.115]), prediction=1.0),\n",
       " Row(id=u'49e905af0edebfb115409fcdb9d1f719', datetime=datetime.datetime(2016, 7, 10, 15, 44), artist=u'radiohead', title=u'burn the witch', year=2016, month=7, day=10, day_of_week=u'Sunday', week=28, hour=15, nextrank=5, currentrank=4, label=1, artistIndex=7.0, titleIndex=3.0, dayOfWeekIndex=6.0, features=DenseVector([7.0, 6.0, 3.0, 15.0, 10.0, 7.0, 2016.0, 4.0]), rawPrediction=DenseVector([0.2099, -0.2099]), probability=DenseVector([0.5523, 0.4477]), prediction=1.0),\n",
       " Row(id=u'4b36fe20ad53e4ff4bcc504be1c3b452', datetime=datetime.datetime(2016, 7, 7, 4, 39), artist=u'beck', title=u'wow', year=2016, month=7, day=7, day_of_week=u'Thursday', week=27, hour=4, nextrank=4, currentrank=3, label=1, artistIndex=28.0, titleIndex=22.0, dayOfWeekIndex=1.0, features=DenseVector([28.0, 1.0, 22.0, 4.0, 7.0, 7.0, 2016.0, 3.0]), rawPrediction=DenseVector([1.4675, -1.4675]), probability=DenseVector([0.8127, 0.1873]), prediction=1.0),\n",
       " Row(id=u'4b70d753ff9332f24cf75bc5df82fa29', datetime=datetime.datetime(2016, 7, 9, 6, 1), artist=u'margaret glaspy', title=u'you and i', year=2016, month=7, day=9, day_of_week=u'Saturday', week=27, hour=6, nextrank=0, currentrank=12, label=0, artistIndex=11.0, titleIndex=28.0, dayOfWeekIndex=3.0, features=DenseVector([11.0, 3.0, 28.0, 6.0, 9.0, 7.0, 2016.0, 12.0]), rawPrediction=DenseVector([-1.7323, 1.7323]), probability=DenseVector([0.1503, 0.8497]), prediction=1.0)]"
      ]
     },
     "execution_count": 103,
     "metadata": {},
     "output_type": "execute_result"
    }
   ],
   "source": [
    "from pyspark.sql.functions import udf, col\n",
    "results.filter(col(\"prediction\") == 1.0).take(20)"
   ]
  },
  {
   "cell_type": "code",
   "execution_count": 10,
   "metadata": {
    "collapsed": false
   },
   "outputs": [
    {
     "name": "stdout",
     "output_type": "stream",
     "text": [
      "{'current_weekofyear': 8, 'next_weekofyear': 9, 'start_date': '2017-02-22 00:00:00', 'end_date': '2017-03-01 20:00:00', 'last_year': 2017}\n",
      "+--------------------+--------------------+--------------------+--------------------+----+-----+---+-----------+----+----+--------+-----------+-----+\n",
      "|                  id|            datetime|              artist|               title|year|month|day|day_of_week|week|hour|nextrank|currentrank|label|\n",
      "+--------------------+--------------------+--------------------+--------------------+----+-----+---+-----------+----+----+--------+-----------+-----+\n",
      "|6fc071f418678eb80...|2017-03-01 19:59:...|       elliott smith|   i figured you out|2017|    3|  1|  Wednesday|   9|  19|      20|          0|    1|\n",
      "|16e43ddf0a8deaf9b...|2017-03-01 19:55:...|         tame impala|    'cause i'm a man|2017|    3|  1|  Wednesday|   9|  19|       0|          0|    0|\n",
      "|25abaf72431c2f38b...|2017-03-01 19:51:...|  the japanese house|   face like thunder|2017|    3|  1|  Wednesday|   9|  19|       0|          0|    0|\n",
      "|5962b51b73ef2bca3...|2017-03-01 19:44:...|             the who|    behind blue eyes|2017|    3|  1|  Wednesday|   9|  19|       0|          0|    0|\n",
      "|52730e2b202684fdb...|2017-03-01 19:40:...|               borns|       electric love|2017|    3|  1|  Wednesday|   9|  19|       0|          0|    0|\n",
      "|b9abe45e6201a36bd...|2017-03-01 19:38:...|    guided by voices|         hiking skin|2017|    3|  1|  Wednesday|   9|  19|       0|          0|    0|\n",
      "|ef009754a98b6d226...|2017-03-01 19:30:...|          roxy music|       do the strand|2017|    3|  1|  Wednesday|   9|  19|       0|          0|    0|\n",
      "|6aa5ab0192d985885...|2017-03-01 19:26:...|             temples|strange or be for...|2017|    3|  1|  Wednesday|   9|  19|       0|          0|    0|\n",
      "|aa229d4c1323af2ab...|2017-03-01 19:22:...|peter bjorn and john|         young folks|2017|    3|  1|  Wednesday|   9|  19|       0|          0|    0|\n",
      "|b6d32a1fc80fd2745...|2017-03-01 19:19:...|            son volt|          lost souls|2017|    3|  1|  Wednesday|   9|  19|       0|          0|    0|\n",
      "|6a70beb5569d1fb44...|2017-03-01 19:13:...|the new pornograp...|high ticket attra...|2017|    3|  1|  Wednesday|   9|  19|       0|         20|    0|\n",
      "|67f0e80e19c7ecaf3...|2017-03-01 19:06:...|             squeeze| black coffee in bed|2017|    3|  1|  Wednesday|   9|  19|       0|          0|    0|\n",
      "|f5bd0d9c6389a59ee...|2017-03-01 19:03:...|               tabah|        curtain call|2017|    3|  1|  Wednesday|   9|  19|       0|          0|    0|\n",
      "|d5a95ef3bbeae69f0...|2017-03-01 18:55:...|        the national|           graceless|2017|    3|  1|  Wednesday|   9|  18|       0|          0|    0|\n",
      "|4901c952c15fc129c...|2017-03-01 18:51:...|           tim darcy| tall glass of water|2017|    3|  1|  Wednesday|   9|  18|       0|          0|    0|\n",
      "|c43a269239add9fb6...|2017-03-01 18:43:...|         nina simone|   just like a woman|2017|    3|  1|  Wednesday|   9|  18|       0|          0|    0|\n",
      "|470c2b8a0e17682ad...|2017-03-01 18:38:...|          atmosphere|                shhh|2017|    3|  1|  Wednesday|   9|  18|       0|          0|    0|\n",
      "|71c5004aa760f0c64...|2017-03-01 18:36:...|     the lemon twigs|those days is com...|2017|    3|  1|  Wednesday|   9|  18|       0|          0|    0|\n",
      "|c048acea5f1c4050e...|2017-03-01 18:30:...|jeremy messersmit...|   little blue world|2017|    3|  1|  Wednesday|   9|  18|       0|          0|    0|\n",
      "|e4a3945d0afdefa9e...|2017-03-01 18:26:...|               feist|       i feel it all|2017|    3|  1|  Wednesday|   9|  18|       0|          0|    0|\n",
      "|2a68647fa0f281f58...|2017-03-01 18:20:...|      thurston moore|          cease fire|2017|    3|  1|  Wednesday|   9|  18|       0|          0|    0|\n",
      "|942eb2ee850760e49...|2017-03-01 18:14:...|  the flying lizards|               money|2017|    3|  1|  Wednesday|   9|  18|       0|          0|    0|\n",
      "|cac8e8e5aba47ebd1...|2017-03-01 18:11:...|  the avett brothers|  another is waiting|2017|    3|  1|  Wednesday|   9|  18|       0|          0|    0|\n",
      "|8775489c2e7c6f1cb...|2017-03-01 18:08:...|           ty segall|  orange color queen|2017|    3|  1|  Wednesday|   9|  18|      15|         15|    1|\n",
      "|cd53bbd87d973faa0...|2017-03-01 18:01:...|                ween|         voodoo lady|2017|    3|  1|  Wednesday|   9|  18|       0|          0|    0|\n",
      "|b9ddcabc950e71443...|2017-03-01 17:57:...|      run the jewels|       legend has it|2017|    3|  1|  Wednesday|   9|  17|       0|          0|    0|\n",
      "|6e01420a23bb1cf70...|2017-03-01 17:49:...|         the killers|all these things ...|2017|    3|  1|  Wednesday|   9|  17|       0|          0|    0|\n",
      "|b243846068f5a3c0a...|2017-03-01 17:45:...|           the clash|             hateful|2017|    3|  1|  Wednesday|   9|  17|       0|          0|    0|\n",
      "|104e3e2f33b9ae5e7...|2017-03-01 17:42:...|black joe lewis a...|                 ptp|2017|    3|  1|  Wednesday|   9|  17|       0|          0|    0|\n",
      "|4813a8fd8db4c3941...|2017-03-01 17:34:...|          thundercat|show you the way ...|2017|    3|  1|  Wednesday|   9|  17|       0|          0|    0|\n",
      "|e6684eec96eef7f8e...|2017-03-01 17:30:...|            big star|     don't lie to me|2017|    3|  1|  Wednesday|   9|  17|       0|          0|    0|\n",
      "|1fe29b3cee2cab314...|2017-03-01 17:28:...|         angel olsen|          give it up|2017|    3|  1|  Wednesday|   9|  17|       0|          0|    0|\n",
      "|90f34dd0187d69086...|2017-03-01 17:20:...|         the orwells|they put a body i...|2017|    3|  1|  Wednesday|   9|  17|       0|          0|    0|\n",
      "|dbdc032711477f7c7...|2017-03-01 17:17:...|     paul westerberg|          seein' her|2017|    3|  1|  Wednesday|   9|  17|       0|          0|    0|\n",
      "|a3a31a7dca9e4e017...|2017-03-01 17:14:...|       the lumineers|              angela|2017|    3|  1|  Wednesday|   9|  17|       0|          0|    0|\n",
      "|4efb83d78c797f642...|2017-03-01 17:05:...|          jack white|      just one drink|2017|    3|  1|  Wednesday|   9|  17|       0|          0|    0|\n",
      "|0abd574614a31a73b...|2017-03-01 17:02:...|             foxygen|   follow the leader|2017|    3|  1|  Wednesday|   9|  17|       0|          0|    0|\n",
      "|a912ca09d5294e5a5...|2017-03-01 16:58:...|        hippo campus|             monsoon|2017|    3|  1|  Wednesday|   9|  16|       0|          0|    0|\n",
      "|74fdc1a6fc3383153...|2017-03-01 16:45:...|          funkadelic|one nation under ...|2017|    3|  1|  Wednesday|   9|  16|       0|          0|    0|\n",
      "|9b22a8b2f3b9db9c8...|2017-03-01 16:41:...|   cage the elephant|      cold cold cold|2017|    3|  1|  Wednesday|   9|  16|      14|          0|    1|\n",
      "|c4cc5b2e4592ae008...|2017-03-01 16:33:...|            sea wolf|       you're a wolf|2017|    3|  1|  Wednesday|   9|  16|       0|          0|    0|\n",
      "|266e7cf24fa05a6c1...|2017-03-01 16:29:...|          deap vally|          smile more|2017|    3|  1|  Wednesday|   9|  16|       0|          0|    0|\n",
      "|412c825e3ce13f056...|2017-03-01 16:26:...|            bleached|            flipside|2017|    3|  1|  Wednesday|   9|  16|       0|          0|    0|\n",
      "|557d1715c23269633...|2017-03-01 16:17:...|         the stooges| i wanna be your dog|2017|    3|  1|  Wednesday|   9|  16|       0|          0|    0|\n",
      "|f0dd2710764fdfeb7...|2017-03-01 16:13:...|         tiny deaths|              summer|2017|    3|  1|  Wednesday|   9|  16|       0|          0|    0|\n",
      "|16c36042b0caead0a...|2017-03-01 16:05:...|   melissa etheridge|    i'm the only one|2017|    3|  1|  Wednesday|   9|  16|       0|          0|    0|\n",
      "|e992f2634b1fde6d9...|2017-03-01 15:54:...|         cheap trick|           surrender|2017|    3|  1|  Wednesday|   9|  15|       0|          0|    0|\n",
      "|3c392dfe9b1141693...|2017-03-01 15:49:...|               spoon|        i summon you|2017|    3|  1|  Wednesday|   9|  15|       0|          0|    0|\n",
      "|34669a513409ce2b1...|2017-03-01 15:46:...|      rag'n'bone man|               human|2017|    3|  1|  Wednesday|   9|  15|      19|          0|    1|\n",
      "|fd46d830b4eb56ee4...|2017-03-01 15:37:...|       plague vendor|            ox blood|2017|    3|  1|  Wednesday|   9|  15|       0|          0|    0|\n",
      "+--------------------+--------------------+--------------------+--------------------+----+-----+---+-----------+----+----+--------+-----------+-----+\n",
      "only showing top 50 rows\n",
      "\n"
     ]
    }
   ],
   "source": [
    "from datetime import datetime, timedelta\n",
    "def get_dates(chartshow_date):\n",
    "    results = {} \n",
    "    results[\"end_date\"] = \"{0} 20:00:00\".format(chartshow_date.strftime(\"%Y-%m-%d\"))\n",
    "    start_date = chartshow_date - timedelta(days=7)\n",
    "    results[\"start_date\"] = \"{0} 00:00:00\".format(start_date.strftime(\"%Y-%m-%d\"))\n",
    "    results[\"current_weekofyear\"] = chartshow_date.isocalendar()[1] -1\n",
    "    results[\"next_weekofyear\"] = chartshow_date.isocalendar()[1]\n",
    "    results[\"last_year\"] = chartshow_date.year\n",
    "    print results\n",
    "    return results\n",
    "    \n",
    "def get_training_data(chartshow_date):\n",
    "    dates = get_dates(chartshow_date)\n",
    "    \n",
    "    df = spark.sql(\n",
    "    \"\"\"\n",
    "    SELECT \n",
    "        p.*,\n",
    "        CASE WHEN next.rank IS NULL THEN 0 ELSE next.rank END AS nextrank,\n",
    "        CASE WHEN current.rank IS NULL THEN 0 ELSE current.rank END AS currentrank,\n",
    "        CASE WHEN next.rank IS NOT NULL THEN 1 ELSE 0 END AS label\n",
    "    FROM playlist p\n",
    "    LEFT OUTER JOIN \n",
    "    (\n",
    "        SELECT \n",
    "            artist,\n",
    "            title,\n",
    "            rank\n",
    "        FROM\n",
    "            chartshow\n",
    "        WHERE \n",
    "            YEAR(date) = {year}\n",
    "            AND WEEKOFYEAR(date) = {next_weekofyear}\n",
    "    )\n",
    "    next ON p.artist = next.artist AND p.title = next.title\n",
    "    LEFT OUTER JOIN \n",
    "    (\n",
    "        SELECT \n",
    "            artist,\n",
    "            title,\n",
    "            rank\n",
    "        FROM\n",
    "            chartshow\n",
    "        WHERE \n",
    "            YEAR(date) = {year}\n",
    "            AND WEEKOFYEAR(date) = {current_weekofyear}\n",
    "    )\n",
    "    current ON p.artist = current.artist AND p.title = current.title\n",
    "    WHERE\n",
    "    datetime >= '{start}' AND datetime <= '{end}'\n",
    "    ORDER BY p.datetime DESC\n",
    "    \"\"\".format(year=dates[\"last_year\"], current_weekofyear=dates['current_weekofyear'], next_weekofyear=dates[\"next_weekofyear\"], start=dates[\"start_date\"], end=dates[\"end_date\"]))\n",
    "    return df\n",
    "    \n",
    "get_training_data(datetime(2017,3,1)).show(50)\n",
    "\n"
   ]
  },
  {
   "cell_type": "code",
   "execution_count": null,
   "metadata": {
    "collapsed": true
   },
   "outputs": [],
   "source": []
  }
 ],
 "metadata": {
  "kernelspec": {
   "display_name": "Python 2",
   "language": "python",
   "name": "python2"
  },
  "language_info": {
   "codemirror_mode": {
    "name": "ipython",
    "version": 2
   },
   "file_extension": ".py",
   "mimetype": "text/x-python",
   "name": "python",
   "nbconvert_exporter": "python",
   "pygments_lexer": "ipython2",
   "version": "2.7.10"
  }
 },
 "nbformat": 4,
 "nbformat_minor": 1
}
