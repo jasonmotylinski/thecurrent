{
 "cells": [
  {
   "cell_type": "markdown",
   "metadata": {},
   "source": [
    " # Analysis of the playlist from TheCurrent.org\n",
    " An attempt to predict when an artist will be played on the radio station TheCurrent.org. This example attempts to predict what will be played on a Thursday.\n",
    " \n",
    "## Setup \n",
    " 1. Download Spark 2.0.1 from here: http://d3kbcqa49mib13.cloudfront.net/spark-2.0.1-bin-hadoop2.7.tgz\n",
    " 1. Untar it to the location /opt/spark-2.0.1-bin-hadoop2.7\n",
    " 1. From the command line execute: `source profile && pyspark`\n"
   ]
  },
  {
   "cell_type": "markdown",
   "metadata": {},
   "source": [
    "## Read and label data\n",
    "Read in the source CSV files from the `output/csv` directory. Label each row as positive if it occured on a Thursday."
   ]
  },
  {
   "cell_type": "code",
   "execution_count": 1,
   "metadata": {
    "collapsed": false
   },
   "outputs": [],
   "source": [
    "from pyspark.sql.functions import udf, col\n",
    "from pyspark.sql.types import IntegerType, DoubleType\n",
    "\n",
    "\n",
    "def get_label(day_of_week, hour):\n",
    "    '''Return 1 if the day is Thursday. Otherwise 0. Used by the UDF to label a row.'''\n",
    "    return 1 if day_of_week == \"Thursday\" else 0\n",
    "\n",
    "# The UDF\n",
    "label_udf = udf(get_label, IntegerType())\n",
    "\n",
    "def get_weight(label):\n",
    "    return label * 0.5\n",
    "\n",
    "weight_udf = udf(get_weight, DoubleType())\n",
    "\n",
    "# Read the CSV files\n",
    "df = sqlContext.read.format('com.databricks.spark.csv') \\\n",
    "        .option(\"header\", True) \\\n",
    "        .option(\"inferSchema\", True) \\\n",
    "        .load('output/csv/*.csv') \\\n",
    "        .selectExpr(\"id\", \"datetime\", \"ltrim(rtrim(artist)) artist\", \"title\", \"cast(year as int) year\", \"cast(month as int) month\", \"cast(day as int) day\", \"day_of_week\", \"cast(hour as int) hour\")\n",
    "        \n",
    "# Add a column called `label` which indicates if the article was played on a Thursday (1) or not (0)\n",
    "df = df.withColumn(\"label\", label_udf(col(\"day_of_week\"), col(\"hour\"))).withColumn(\"weight\", weight_udf(col(\"label\")))\n",
    "df = df.dropna()"
   ]
  },
  {
   "cell_type": "markdown",
   "metadata": {},
   "source": [
    "## Create training and test data\n",
    "Creates a training set of data consisting of 80% of the source data, and a test set consisting of 20% of the source data."
   ]
  },
  {
   "cell_type": "code",
   "execution_count": 2,
   "metadata": {
    "collapsed": false,
    "scrolled": true
   },
   "outputs": [],
   "source": [
    "splits = df.randomSplit([0.8, 0.2])\n",
    "train = splits[0].cache()\n",
    "test = splits[1].cache()"
   ]
  },
  {
   "cell_type": "markdown",
   "metadata": {},
   "source": [
    "## Generate features\n",
    "Use the `StringIndexer` to create numeric representations of the `artist`, `title`, and `day_of_week` columns. Use a `VectorAssembler` to combine all numeric data into a vector."
   ]
  },
  {
   "cell_type": "code",
   "execution_count": 3,
   "metadata": {
    "collapsed": false
   },
   "outputs": [],
   "source": [
    "from pyspark.ml.feature import StringIndexer\n",
    "from pyspark.ml.feature import VectorAssembler\n",
    "\n",
    "\n",
    "artistInd = StringIndexer(inputCol=\"artist\", outputCol=\"artistIndex\").setHandleInvalid(\"skip\")\n",
    "titleInd = StringIndexer(inputCol=\"title\", outputCol=\"titleIndex\").setHandleInvalid(\"skip\")\n",
    "dayOfWeekInd = StringIndexer(inputCol=\"day_of_week\", outputCol=\"dayOfWeekIndex\").setHandleInvalid(\"skip\")\n",
    "assembler = VectorAssembler(inputCols=[\"artistIndex\", \"dayOfWeekIndex\", \"titleIndex\", \"hour\", \"day\", \"month\", \"year\"], outputCol=\"features\")"
   ]
  },
  {
   "cell_type": "markdown",
   "metadata": {},
   "source": [
    "## Build the vector pipeline and train the model\n",
    "The pipeline executes the following stages:\n",
    " 1. Creates the `artist` index \n",
    " 1. Creates the `title` index \n",
    " 1. Creates the `day_of_week` index\n",
    " 1. Assembles all numeric columns into a vector\n",
    " 1. Trains the model using 80% of the source data we split previously"
   ]
  },
  {
   "cell_type": "code",
   "execution_count": 25,
   "metadata": {
    "collapsed": false
   },
   "outputs": [],
   "source": [
    "from pyspark.ml.classification import LogisticRegression\n",
    "from pyspark.ml import Pipeline\n",
    "\n",
    "lr = LogisticRegression(maxIter=10000, threshold=0.1)\n",
    "pipeline = Pipeline().setStages([artistInd, titleInd, dayOfWeekInd, assembler, lr])\n",
    "\n",
    "model = pipeline.fit(train)"
   ]
  },
  {
   "cell_type": "markdown",
   "metadata": {},
   "source": [
    "## Test the model\n",
    "Using 20% of the source data split previously, test the model. Use the `BinaryClassificationMetrics` to calculate the AUC and AUP."
   ]
  },
  {
   "cell_type": "code",
   "execution_count": 26,
   "metadata": {
    "collapsed": false
   },
   "outputs": [
    {
     "name": "stdout",
     "output_type": "stream",
     "text": [
      "AUC: 0.691745307477\n",
      "AUP: 0.608474598596\n"
     ]
    }
   ],
   "source": [
    "from pyspark.mllib.evaluation import BinaryClassificationMetrics\n",
    "\n",
    "results = model.transform(test)\n",
    "predictionsAndLabels = results.select(\"prediction\", \"label\") \\\n",
    "                              .rdd.map(lambda r: (float(r[\"prediction\"]), float(r[\"label\"])))\n",
    "metrics = BinaryClassificationMetrics(predictionsAndLabels)\n",
    "print \"AUC: {0}\".format(metrics.areaUnderROC)\n",
    "print \"AUP: {0}\".format(metrics.areaUnderPR)"
   ]
  },
  {
   "cell_type": "code",
   "execution_count": 37,
   "metadata": {
    "collapsed": false
   },
   "outputs": [
    {
     "data": {
      "text/plain": [
       "[Row(artist=u'Yeah Yeah Yeahs', prediction=1.0, probability=DenseVector([0.9, 0.1])),\n",
       " Row(artist=u'The Shins', prediction=1.0, probability=DenseVector([0.9, 0.1])),\n",
       " Row(artist=u'Lo Fidelity Allstars', prediction=1.0, probability=DenseVector([0.9, 0.1])),\n",
       " Row(artist=u'Jose James', prediction=1.0, probability=DenseVector([0.9, 0.1])),\n",
       " Row(artist=u'Dylan Hicks', prediction=1.0, probability=DenseVector([0.9, 0.1])),\n",
       " Row(artist=u'Sugar', prediction=1.0, probability=DenseVector([0.9, 0.1])),\n",
       " Row(artist=u'Ramones', prediction=1.0, probability=DenseVector([0.9, 0.1])),\n",
       " Row(artist=u'Pops Staples', prediction=1.0, probability=DenseVector([0.9, 0.1])),\n",
       " Row(artist=u'The Dead Weather', prediction=1.0, probability=DenseVector([0.9, 0.1])),\n",
       " Row(artist=u'Elvis Costello', prediction=1.0, probability=DenseVector([0.9, 0.1]))]"
      ]
     },
     "execution_count": 37,
     "metadata": {},
     "output_type": "execute_result"
    }
   ],
   "source": [
    "results.filter(col(\"prediction\") == 1.0) \\\n",
    "       .sort(col(\"probability\"), ascending=False) \\\n",
    "       .select(\"artist\",\"prediction\", \"probability\") \\\n",
    "       .take(10)"
   ]
  },
  {
   "cell_type": "code",
   "execution_count": null,
   "metadata": {
    "collapsed": true
   },
   "outputs": [],
   "source": []
  }
 ],
 "metadata": {
  "kernelspec": {
   "display_name": "Python 2",
   "language": "python",
   "name": "python2"
  },
  "language_info": {
   "codemirror_mode": {
    "name": "ipython",
    "version": 2
   },
   "file_extension": ".py",
   "mimetype": "text/x-python",
   "name": "python",
   "nbconvert_exporter": "python",
   "pygments_lexer": "ipython2",
   "version": "2.7.10"
  }
 },
 "nbformat": 4,
 "nbformat_minor": 1
}
