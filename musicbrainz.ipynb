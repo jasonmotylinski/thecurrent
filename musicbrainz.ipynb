{
 "cells": [
  {
   "cell_type": "code",
   "execution_count": 2,
   "id": "3f6d6161",
   "metadata": {},
   "outputs": [],
   "source": [
    "import musicbrainzngs as mbz \n",
    "mbz.set_useragent('rawk-it.com', '0.1')"
   ]
  },
  {
   "cell_type": "code",
   "execution_count": 24,
   "id": "8bec2123",
   "metadata": {},
   "outputs": [
    {
     "data": {
      "text/plain": [
       "{'id': 'b3ba7a09-4f6f-46aa-b1bd-b248d4caf551',\n",
       " 'type': 'Single',\n",
       " 'ext:score': '100',\n",
       " 'title': 'Weightless',\n",
       " 'first-release-date': '2023-01-18',\n",
       " 'primary-type': 'Single',\n",
       " 'artist-credit': [{'name': 'Arlo Parks',\n",
       "   'artist': {'id': '6e8e3717-a62d-4a3f-886d-6a4e82507930',\n",
       "    'name': 'Arlo Parks',\n",
       "    'sort-name': 'Parks, Arlo',\n",
       "    'alias-list': [{'sort-name': 'Marinho, Anaïs Oluwatoyin Estelle',\n",
       "      'type': 'Legal name',\n",
       "      'alias': 'Anaïs Oluwatoyin Estelle Marinho'}]}}],\n",
       " 'release-list': [{'id': 'f453d074-8b3a-4f67-82ff-169b380d8d18',\n",
       "   'title': 'Weightless',\n",
       "   'status': 'Official'}],\n",
       " 'release-count': 1,\n",
       " 'artist-credit-phrase': 'Arlo Parks'}"
      ]
     },
     "execution_count": 24,
     "metadata": {},
     "output_type": "execute_result"
    }
   ],
   "source": [
    "mbz.search_release_groups(artist=\"Arlo Parks\",release=\"Weightless\")['release-group-list'][0]"
   ]
  },
  {
   "cell_type": "code",
   "execution_count": 25,
   "id": "74b4bd49",
   "metadata": {},
   "outputs": [
    {
     "data": {
      "text/plain": [
       "{'id': 'eb1957fc-70af-3e1a-8c0c-9a93e2bdc1c5',\n",
       " 'type': 'Album',\n",
       " 'ext:score': '100',\n",
       " 'title': 'Dogwood Winter',\n",
       " 'first-release-date': '2003-05-02',\n",
       " 'primary-type': 'Album',\n",
       " 'artist-credit': [{'name': 'A.J. Roach',\n",
       "   'artist': {'id': 'd18f0428-6a74-4708-8c61-8290e5771f82',\n",
       "    'name': 'A.J. Roach',\n",
       "    'sort-name': 'Roach, A.J.',\n",
       "    'alias-list': [{'sort-name': 'AJ Roach', 'alias': 'AJ Roach'}]}}],\n",
       " 'release-list': [{'id': 'b335fbd9-06ca-4d19-8613-3c72dcfdccdc',\n",
       "   'title': 'Dogwood Winter',\n",
       "   'status': 'Official'}],\n",
       " 'release-count': 1,\n",
       " 'artist-credit-phrase': 'A.J. Roach'}"
      ]
     },
     "execution_count": 25,
     "metadata": {},
     "output_type": "execute_result"
    }
   ],
   "source": [
    "mbz.search_release_groups(artist=\"A.J. Roach\",release=\"Clinch River Blues\")['release-group-list'][0]"
   ]
  },
  {
   "cell_type": "code",
   "execution_count": null,
   "id": "3c590627",
   "metadata": {},
   "outputs": [],
   "source": []
  }
 ],
 "metadata": {
  "kernelspec": {
   "display_name": "Python 3 (ipykernel)",
   "language": "python",
   "name": "python3"
  },
  "language_info": {
   "codemirror_mode": {
    "name": "ipython",
    "version": 3
   },
   "file_extension": ".py",
   "mimetype": "text/x-python",
   "name": "python",
   "nbconvert_exporter": "python",
   "pygments_lexer": "ipython3",
   "version": "3.11.2"
  }
 },
 "nbformat": 4,
 "nbformat_minor": 5
}
