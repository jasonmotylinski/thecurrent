{
 "cells": [
  {
   "cell_type": "code",
   "execution_count": 21,
   "id": "5dc2d2e8",
   "metadata": {},
   "outputs": [
    {
     "data": {
      "text/plain": [
       "417"
      ]
     },
     "execution_count": 21,
     "metadata": {},
     "output_type": "execute_result"
    }
   ],
   "source": [
    "import requests\n",
    "import json\n",
    "from bs4 import BeautifulSoup\n",
    "from datetime import datetime\n",
    "from pipelines.thecurrent.schedule import get_shows\n",
    "date = datetime(2023,1,1)\n",
    "r=requests.get('https://api.kexp.org/v2/plays/?limit=1000&airdate_after={date.year}-{date.month}-{date.day}T00:00:00&airdate_before={date.year}-{date.month}-{date.day}T23:59:59'.format(date=date))\n",
    "\n",
    "d=r.json()\n",
    "len(d['results'])\n"
   ]
  },
  {
   "cell_type": "code",
   "execution_count": 20,
   "id": "07858b05",
   "metadata": {},
   "outputs": [
    {
     "data": {
      "text/plain": [
       "{'id': 3136800,\n",
       " 'uri': 'https://api.kexp.org/v2/plays/3136800/',\n",
       " 'airdate': '2023-01-01T21:14:25-08:00',\n",
       " 'show': 55773,\n",
       " 'show_uri': 'https://api.kexp.org/v2/shows/55773/',\n",
       " 'image_uri': '',\n",
       " 'thumbnail_uri': '',\n",
       " 'song': 'In This Life',\n",
       " 'track_id': None,\n",
       " 'recording_id': None,\n",
       " 'artist': 'Joeski',\n",
       " 'artist_ids': [],\n",
       " 'album': None,\n",
       " 'release_id': None,\n",
       " 'release_group_id': None,\n",
       " 'labels': ['Crosstown Rebels'],\n",
       " 'label_ids': [],\n",
       " 'release_date': None,\n",
       " 'rotation_status': None,\n",
       " 'is_local': False,\n",
       " 'is_request': False,\n",
       " 'is_live': False,\n",
       " 'comment': None,\n",
       " 'play_type': 'trackplay'}"
      ]
     },
     "execution_count": 20,
     "metadata": {},
     "output_type": "execute_result"
    }
   ],
   "source": [
    "d['results'][50]"
   ]
  }
 ],
 "metadata": {
  "kernelspec": {
   "display_name": "Python 3 (ipykernel)",
   "language": "python",
   "name": "python3"
  },
  "language_info": {
   "codemirror_mode": {
    "name": "ipython",
    "version": 3
   },
   "file_extension": ".py",
   "mimetype": "text/x-python",
   "name": "python",
   "nbconvert_exporter": "python",
   "pygments_lexer": "ipython3",
   "version": "3.11.5"
  }
 },
 "nbformat": 4,
 "nbformat_minor": 5
}
