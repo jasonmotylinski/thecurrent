{
 "cells": [
  {
   "cell_type": "code",
   "execution_count": 1,
   "metadata": {},
   "outputs": [
    {
     "data": {
      "text/plain": [
       "['ukulele cover']"
      ]
     },
     "execution_count": 1,
     "metadata": {},
     "output_type": "execute_result"
    }
   ],
   "source": [
    "\n",
    "from pipelines.everynoise import everynoise\n",
    "\n",
    "artist='da Ukulele boys'\n",
    "everynoise.get_genres(artist)"
   ]
  },
  {
   "cell_type": "code",
   "execution_count": 6,
   "metadata": {},
   "outputs": [
    {
     "name": "stdout",
     "output_type": "stream",
     "text": [
      "2468\n"
     ]
    }
   ],
   "source": [
    "import config\n",
    "import json\n",
    "\n",
    "from file_helpers import load_json_data\n",
    "\n",
    "data=load_json_data(config.ARTISTS_GENRES_JSON)\n",
    "\n",
    "artists_not_found=[]\n",
    "for artist in data.keys():\n",
    "    j=json.loads(data[artist])\n",
    "    if len(j['genres']) == 0:\n",
    "       artists_not_found.append(artist)\n",
    "\n",
    "print(len(artists_not_found))"
   ]
  }
 ],
 "metadata": {
  "kernelspec": {
   "display_name": "venv",
   "language": "python",
   "name": "python3"
  },
  "language_info": {
   "codemirror_mode": {
    "name": "ipython",
    "version": 3
   },
   "file_extension": ".py",
   "mimetype": "text/x-python",
   "name": "python",
   "nbconvert_exporter": "python",
   "pygments_lexer": "ipython3",
   "version": "3.9.6"
  },
  "orig_nbformat": 4
 },
 "nbformat": 4,
 "nbformat_minor": 2
}
