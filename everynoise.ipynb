{
 "cells": [
  {
   "cell_type": "code",
   "execution_count": 42,
   "metadata": {},
   "outputs": [],
   "source": [
    "import json\n",
    "import os\n",
    "import requests\n",
    "\n",
    "from bs4 import BeautifulSoup\n",
    "\n",
    "ARTISTS_CSV=\"artists.csv\"\n",
    "ARTISTS_GENRES_JSON=\"artists_genres.json\"\n",
    "EVERYNOISE_URL=\"https://everynoise.com/lookup.cgi?who={who}&mode=map\"\n",
    "\n",
    "def get_genres(who):\n",
    "    genres=[]\n",
    "    r = requests.get(EVERYNOISE_URL.format(who=who))\n",
    "\n",
    "    soup = BeautifulSoup(r.text)\n",
    "\n",
    "    for s in soup(\"a\",{\"title\": None}):\n",
    "        genres.append(s.text)\n",
    "    \n",
    "    return genres\n",
    "\n",
    "def clean_artist(artist):\n",
    "    artist=artist.strip()\n",
    "\n",
    "    if(artist[0]== '\"'):\n",
    "        artist=artist[1:]\n",
    "        artist=artist[:-1]\n",
    "\n",
    "    return artist\n",
    "\n",
    "def load_data():\n",
    "    artists_genres = {}\n",
    "    if os.path.exists(ARTISTS_GENRES_JSON):\n",
    "        with open(ARTISTS_GENRES_JSON,'r') as f:\n",
    "            for l in f.readlines():\n",
    "                file_data = json.loads(l)\n",
    "                artists_genres[file_data[\"artist\"]] = l.strip()\n",
    "    return artists_genres\n",
    "\n"
   ]
  },
  {
   "cell_type": "code",
   "execution_count": 43,
   "metadata": {},
   "outputs": [
    {
     "name": "stdout",
     "output_type": "stream",
     "text": [
      "{}\n"
     ]
    }
   ],
   "source": [
    "\n",
    "with open(ARTISTS_CSV, 'r') as f:\n",
    "    artists = f.readlines()\n",
    "\n",
    "artists_genres=load_data()  \n",
    "i=0\n",
    "\n",
    "for l in artists:\n",
    "    a = clean_artist(l)\n",
    "    if a not in artists_genres:\n",
    "        artists_genres[a] = json.dumps({\"artist\": a, \"genres\": get_genres(a)})\n",
    "        i=i+1\n",
    "\n",
    "        if i==10:\n",
    "            break\n",
    "\n",
    "\n",
    "with open(ARTISTS_GENRES_JSON, 'w') as f:\n",
    "    for key in artists_genres.keys():\n",
    "        f.writelines(\"{0}\\n\".format(artists_genres[key]))"
   ]
  },
  {
   "cell_type": "code",
   "execution_count": 31,
   "metadata": {},
   "outputs": [
    {
     "data": {
      "text/plain": [
       "{'Kid606': '{\"artist\": \"Kid606\", \"genres\": [\"drill and bass\", \"breakcore\", \"intelligent dance music\", \"plunderphonics\", \"glitch\", \"deep idm\"]}\\n',\n",
       " 'A Band of Bees': '{\"artist\": \"A Band of Bees\", \"genres\": [\"covertronica\", \"electro\", \"scandipop\"]}\\n',\n",
       " 'The Shins': '{\"artist\": \"The Shins\", \"genres\": [\"albuquerque indie\", \"indie rock\", \"portland indie\", \"stomp and holler\", \"alternative rock\", \"modern rock\", \"indie pop\"]}\\n',\n",
       " 'Jolie Holland': '{\"artist\": \"Jolie Holland\", \"genres\": [\"indie folk\", \"stomp and holler\"]}\\n',\n",
       " 'The Carter Family': '{\"artist\": \"The Carter Family\", \"genres\": [\"country gospel\", \"traditional folk\", \"appalachian folk\", \"traditional country\", \"old-time\", \"vocal harmony group\", \"bluegrass\", \"folk\"]}\\n',\n",
       " 'Broken Spindles': '{\"artist\": \"Broken Spindles\", \"genres\": [\"omaha indie\"]}\\n',\n",
       " 'Superhopper': '{\"artist\": \"Superhopper\", \"genres\": [\"twin cities indie\"]}\\n',\n",
       " 'Nick Cave & The Bad Seed': '{\"artist\": \"Nick Cave & The Bad Seed\", \"genres\": [\"melancholia\"]}\\n',\n",
       " 'Hanne Hukkelbuerg': '{\"artist\": \"Hanne Hukkelbuerg\", \"genres\": []}\\n',\n",
       " 'Sun Kil Moon': '{\"artist\": \"Sun Kil Moon\", \"genres\": [\"slowcore\", \"modern folk rock\", \"indie rock\", \"dream pop\", \"alternative rock\", \"stomp and holler\"]}\\n'}"
      ]
     },
     "execution_count": 31,
     "metadata": {},
     "output_type": "execute_result"
    }
   ],
   "source": [
    "\n",
    "load_data()"
   ]
  },
  {
   "cell_type": "code",
   "execution_count": 35,
   "metadata": {},
   "outputs": [
    {
     "data": {
      "text/plain": [
       "True"
      ]
     },
     "execution_count": 35,
     "metadata": {},
     "output_type": "execute_result"
    }
   ],
   "source": [
    "test = {\"a\": \"test\"}\n",
    "\n",
    "\"a\" in test"
   ]
  }
 ],
 "metadata": {
  "kernelspec": {
   "display_name": "venv",
   "language": "python",
   "name": "python3"
  },
  "language_info": {
   "codemirror_mode": {
    "name": "ipython",
    "version": 3
   },
   "file_extension": ".py",
   "mimetype": "text/x-python",
   "name": "python",
   "nbconvert_exporter": "python",
   "pygments_lexer": "ipython3",
   "version": "3.9.6"
  },
  "orig_nbformat": 4
 },
 "nbformat": 4,
 "nbformat_minor": 2
}
